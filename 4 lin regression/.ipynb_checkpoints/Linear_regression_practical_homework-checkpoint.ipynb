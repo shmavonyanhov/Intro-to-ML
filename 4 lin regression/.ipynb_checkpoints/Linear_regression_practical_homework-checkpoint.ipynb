{
 "cells": [
  {
   "cell_type": "code",
   "execution_count": 216,
   "metadata": {},
   "outputs": [],
   "source": [
    "import pandas as pd\n",
    "import numpy as np\n",
    "import matplotlib.pyplot as plt\n",
    "import plotly.express as px\n",
    "from sklearn.model_selection import train_test_split\n",
    "from sklearn.linear_model import LinearRegression\n",
    "from sklearn import metrics"
   ]
  },
  {
   "cell_type": "markdown",
   "metadata": {},
   "source": [
    "### Load the dataset from the file Ecommerce.csv"
   ]
  },
  {
   "cell_type": "markdown",
   "metadata": {},
   "source": [
    "```\n",
    "This dataset includes the following data for 200 online customers:\n",
    "\n",
    "- Email\n",
    "- Adress\n",
    "- Avatar\n",
    "- Avg Session Length (everage time they spent on usage)\n",
    "- Time on App (time they spent using the application)\n",
    "- Time on Website (time they spent using the website)\n",
    "- Length of Membership (for how long they have been a user)\n",
    "- Yearly Amount Spent (how much money they spend yearly)\n",
    "\n",
    "Yout goal will be to estimate the value of the Yearly Amount Spent using the feature(s) of the users\n",
    "```"
   ]
  },
  {
   "cell_type": "code",
   "execution_count": 107,
   "metadata": {},
   "outputs": [
    {
     "data": {
      "text/html": [
       "<div>\n",
       "<style scoped>\n",
       "    .dataframe tbody tr th:only-of-type {\n",
       "        vertical-align: middle;\n",
       "    }\n",
       "\n",
       "    .dataframe tbody tr th {\n",
       "        vertical-align: top;\n",
       "    }\n",
       "\n",
       "    .dataframe thead th {\n",
       "        text-align: right;\n",
       "    }\n",
       "</style>\n",
       "<table border=\"1\" class=\"dataframe\">\n",
       "  <thead>\n",
       "    <tr style=\"text-align: right;\">\n",
       "      <th></th>\n",
       "      <th>Email</th>\n",
       "      <th>Address</th>\n",
       "      <th>Avatar</th>\n",
       "      <th>Avg Session Length</th>\n",
       "      <th>Time on App</th>\n",
       "      <th>Time on Website</th>\n",
       "      <th>Length of Membership</th>\n",
       "      <th>Yearly Amount Spent</th>\n",
       "    </tr>\n",
       "  </thead>\n",
       "  <tbody>\n",
       "    <tr>\n",
       "      <th>0</th>\n",
       "      <td>mstephenson@fernandez.com</td>\n",
       "      <td>835 Frank TunnelWrightmouth, MI 82180-9605</td>\n",
       "      <td>Violet</td>\n",
       "      <td>34.497268</td>\n",
       "      <td>12.655651</td>\n",
       "      <td>39.577668</td>\n",
       "      <td>4.082621</td>\n",
       "      <td>587.951054</td>\n",
       "    </tr>\n",
       "    <tr>\n",
       "      <th>1</th>\n",
       "      <td>hduke@hotmail.com</td>\n",
       "      <td>4547 Archer CommonDiazchester, CA 06566-8576</td>\n",
       "      <td>DarkGreen</td>\n",
       "      <td>31.926272</td>\n",
       "      <td>11.109461</td>\n",
       "      <td>37.268959</td>\n",
       "      <td>2.664034</td>\n",
       "      <td>392.204933</td>\n",
       "    </tr>\n",
       "    <tr>\n",
       "      <th>2</th>\n",
       "      <td>pallen@yahoo.com</td>\n",
       "      <td>24645 Valerie Unions Suite 582Cobbborough, DC ...</td>\n",
       "      <td>Bisque</td>\n",
       "      <td>33.000915</td>\n",
       "      <td>11.330278</td>\n",
       "      <td>37.110597</td>\n",
       "      <td>4.104543</td>\n",
       "      <td>487.547505</td>\n",
       "    </tr>\n",
       "    <tr>\n",
       "      <th>3</th>\n",
       "      <td>riverarebecca@gmail.com</td>\n",
       "      <td>1414 David ThroughwayPort Jason, OH 22070-1220</td>\n",
       "      <td>SaddleBrown</td>\n",
       "      <td>34.305557</td>\n",
       "      <td>13.717514</td>\n",
       "      <td>36.721283</td>\n",
       "      <td>3.120179</td>\n",
       "      <td>581.852344</td>\n",
       "    </tr>\n",
       "    <tr>\n",
       "      <th>4</th>\n",
       "      <td>mstephens@davidson-herman.com</td>\n",
       "      <td>14023 Rodriguez PassagePort Jacobville, PR 372...</td>\n",
       "      <td>MediumAquaMarine</td>\n",
       "      <td>33.330673</td>\n",
       "      <td>12.795189</td>\n",
       "      <td>37.536653</td>\n",
       "      <td>4.446308</td>\n",
       "      <td>599.406092</td>\n",
       "    </tr>\n",
       "  </tbody>\n",
       "</table>\n",
       "</div>"
      ],
      "text/plain": [
       "                           Email  \\\n",
       "0      mstephenson@fernandez.com   \n",
       "1              hduke@hotmail.com   \n",
       "2               pallen@yahoo.com   \n",
       "3        riverarebecca@gmail.com   \n",
       "4  mstephens@davidson-herman.com   \n",
       "\n",
       "                                             Address            Avatar  \\\n",
       "0         835 Frank TunnelWrightmouth, MI 82180-9605            Violet   \n",
       "1       4547 Archer CommonDiazchester, CA 06566-8576         DarkGreen   \n",
       "2  24645 Valerie Unions Suite 582Cobbborough, DC ...            Bisque   \n",
       "3     1414 David ThroughwayPort Jason, OH 22070-1220       SaddleBrown   \n",
       "4  14023 Rodriguez PassagePort Jacobville, PR 372...  MediumAquaMarine   \n",
       "\n",
       "   Avg Session Length  Time on App  Time on Website  Length of Membership  \\\n",
       "0           34.497268    12.655651        39.577668              4.082621   \n",
       "1           31.926272    11.109461        37.268959              2.664034   \n",
       "2           33.000915    11.330278        37.110597              4.104543   \n",
       "3           34.305557    13.717514        36.721283              3.120179   \n",
       "4           33.330673    12.795189        37.536653              4.446308   \n",
       "\n",
       "   Yearly Amount Spent  \n",
       "0           587.951054  \n",
       "1           392.204933  \n",
       "2           487.547505  \n",
       "3           581.852344  \n",
       "4           599.406092  "
      ]
     },
     "execution_count": 107,
     "metadata": {},
     "output_type": "execute_result"
    }
   ],
   "source": [
    "df=pd.read_csv('Ecommerce.csv')\n",
    "df.head()"
   ]
  },
  {
   "cell_type": "markdown",
   "metadata": {},
   "source": [
    " ### Get rid of non-numerical columns of the dataset"
   ]
  },
  {
   "cell_type": "code",
   "execution_count": 108,
   "metadata": {},
   "outputs": [],
   "source": [
    "df=df.drop([\"Email\",\"Address\",\"Avatar\"],axis=1)"
   ]
  },
  {
   "cell_type": "code",
   "execution_count": 109,
   "metadata": {},
   "outputs": [
    {
     "data": {
      "text/html": [
       "<div>\n",
       "<style scoped>\n",
       "    .dataframe tbody tr th:only-of-type {\n",
       "        vertical-align: middle;\n",
       "    }\n",
       "\n",
       "    .dataframe tbody tr th {\n",
       "        vertical-align: top;\n",
       "    }\n",
       "\n",
       "    .dataframe thead th {\n",
       "        text-align: right;\n",
       "    }\n",
       "</style>\n",
       "<table border=\"1\" class=\"dataframe\">\n",
       "  <thead>\n",
       "    <tr style=\"text-align: right;\">\n",
       "      <th></th>\n",
       "      <th>Avg Session Length</th>\n",
       "      <th>Time on App</th>\n",
       "      <th>Time on Website</th>\n",
       "      <th>Length of Membership</th>\n",
       "      <th>Yearly Amount Spent</th>\n",
       "    </tr>\n",
       "  </thead>\n",
       "  <tbody>\n",
       "    <tr>\n",
       "      <th>0</th>\n",
       "      <td>34.497268</td>\n",
       "      <td>12.655651</td>\n",
       "      <td>39.577668</td>\n",
       "      <td>4.082621</td>\n",
       "      <td>587.951054</td>\n",
       "    </tr>\n",
       "    <tr>\n",
       "      <th>1</th>\n",
       "      <td>31.926272</td>\n",
       "      <td>11.109461</td>\n",
       "      <td>37.268959</td>\n",
       "      <td>2.664034</td>\n",
       "      <td>392.204933</td>\n",
       "    </tr>\n",
       "    <tr>\n",
       "      <th>2</th>\n",
       "      <td>33.000915</td>\n",
       "      <td>11.330278</td>\n",
       "      <td>37.110597</td>\n",
       "      <td>4.104543</td>\n",
       "      <td>487.547505</td>\n",
       "    </tr>\n",
       "    <tr>\n",
       "      <th>3</th>\n",
       "      <td>34.305557</td>\n",
       "      <td>13.717514</td>\n",
       "      <td>36.721283</td>\n",
       "      <td>3.120179</td>\n",
       "      <td>581.852344</td>\n",
       "    </tr>\n",
       "    <tr>\n",
       "      <th>4</th>\n",
       "      <td>33.330673</td>\n",
       "      <td>12.795189</td>\n",
       "      <td>37.536653</td>\n",
       "      <td>4.446308</td>\n",
       "      <td>599.406092</td>\n",
       "    </tr>\n",
       "  </tbody>\n",
       "</table>\n",
       "</div>"
      ],
      "text/plain": [
       "   Avg Session Length  Time on App  Time on Website  Length of Membership  \\\n",
       "0           34.497268    12.655651        39.577668              4.082621   \n",
       "1           31.926272    11.109461        37.268959              2.664034   \n",
       "2           33.000915    11.330278        37.110597              4.104543   \n",
       "3           34.305557    13.717514        36.721283              3.120179   \n",
       "4           33.330673    12.795189        37.536653              4.446308   \n",
       "\n",
       "   Yearly Amount Spent  \n",
       "0           587.951054  \n",
       "1           392.204933  \n",
       "2           487.547505  \n",
       "3           581.852344  \n",
       "4           599.406092  "
      ]
     },
     "execution_count": 109,
     "metadata": {},
     "output_type": "execute_result"
    }
   ],
   "source": [
    "df.head()"
   ]
  },
  {
   "cell_type": "markdown",
   "metadata": {},
   "source": [
    "### Use Yearly Amount Spent as your target variable. Plot the relationship of each of the numerical features with the target variable"
   ]
  },
  {
   "cell_type": "code",
   "execution_count": 110,
   "metadata": {},
   "outputs": [],
   "source": [
    "y=df['Yearly Amount Spent']"
   ]
  },
  {
   "cell_type": "markdown",
   "metadata": {},
   "source": [
    "### Leave only one feature that has a linear relationship with the target variable."
   ]
  },
  {
   "cell_type": "code",
   "execution_count": 111,
   "metadata": {},
   "outputs": [],
   "source": [
    "a=np.array(df.corr())"
   ]
  },
  {
   "cell_type": "code",
   "execution_count": 112,
   "metadata": {},
   "outputs": [
    {
     "data": {
      "application/vnd.plotly.v1+json": {
       "config": {
        "plotlyServerURL": "https://plot.ly"
       },
       "data": [
        {
         "coloraxis": "coloraxis",
         "hovertemplate": "x: %{x}<br>y: %{y}<br>color: %{z}<extra></extra>",
         "type": "heatmap",
         "z": [
          [
           1,
           -0.027825983555661498,
           -0.03498689962457974,
           0.06024738825957992,
           0.35508829470764314
          ],
          [
           -0.027825983555661498,
           1,
           0.08238827319098167,
           0.029142563136158508,
           0.4993277700534509
          ],
          [
           -0.03498689962457974,
           0.08238827319098167,
           1,
           -0.04758181883946129,
           -0.0026408446721588744
          ],
          [
           0.06024738825957992,
           0.029142563136158508,
           -0.04758181883946129,
           1,
           0.8090835682475818
          ],
          [
           0.35508829470764314,
           0.4993277700534509,
           -0.0026408446721588744,
           0.8090835682475818,
           1
          ]
         ]
        }
       ],
       "layout": {
        "coloraxis": {
         "colorscale": [
          [
           0,
           "#0d0887"
          ],
          [
           0.1111111111111111,
           "#46039f"
          ],
          [
           0.2222222222222222,
           "#7201a8"
          ],
          [
           0.3333333333333333,
           "#9c179e"
          ],
          [
           0.4444444444444444,
           "#bd3786"
          ],
          [
           0.5555555555555556,
           "#d8576b"
          ],
          [
           0.6666666666666666,
           "#ed7953"
          ],
          [
           0.7777777777777778,
           "#fb9f3a"
          ],
          [
           0.8888888888888888,
           "#fdca26"
          ],
          [
           1,
           "#f0f921"
          ]
         ]
        },
        "margin": {
         "t": 60
        },
        "template": {
         "data": {
          "bar": [
           {
            "error_x": {
             "color": "#2a3f5f"
            },
            "error_y": {
             "color": "#2a3f5f"
            },
            "marker": {
             "line": {
              "color": "#E5ECF6",
              "width": 0.5
             }
            },
            "type": "bar"
           }
          ],
          "barpolar": [
           {
            "marker": {
             "line": {
              "color": "#E5ECF6",
              "width": 0.5
             }
            },
            "type": "barpolar"
           }
          ],
          "carpet": [
           {
            "aaxis": {
             "endlinecolor": "#2a3f5f",
             "gridcolor": "white",
             "linecolor": "white",
             "minorgridcolor": "white",
             "startlinecolor": "#2a3f5f"
            },
            "baxis": {
             "endlinecolor": "#2a3f5f",
             "gridcolor": "white",
             "linecolor": "white",
             "minorgridcolor": "white",
             "startlinecolor": "#2a3f5f"
            },
            "type": "carpet"
           }
          ],
          "choropleth": [
           {
            "colorbar": {
             "outlinewidth": 0,
             "ticks": ""
            },
            "type": "choropleth"
           }
          ],
          "contour": [
           {
            "colorbar": {
             "outlinewidth": 0,
             "ticks": ""
            },
            "colorscale": [
             [
              0,
              "#0d0887"
             ],
             [
              0.1111111111111111,
              "#46039f"
             ],
             [
              0.2222222222222222,
              "#7201a8"
             ],
             [
              0.3333333333333333,
              "#9c179e"
             ],
             [
              0.4444444444444444,
              "#bd3786"
             ],
             [
              0.5555555555555556,
              "#d8576b"
             ],
             [
              0.6666666666666666,
              "#ed7953"
             ],
             [
              0.7777777777777778,
              "#fb9f3a"
             ],
             [
              0.8888888888888888,
              "#fdca26"
             ],
             [
              1,
              "#f0f921"
             ]
            ],
            "type": "contour"
           }
          ],
          "contourcarpet": [
           {
            "colorbar": {
             "outlinewidth": 0,
             "ticks": ""
            },
            "type": "contourcarpet"
           }
          ],
          "heatmap": [
           {
            "colorbar": {
             "outlinewidth": 0,
             "ticks": ""
            },
            "colorscale": [
             [
              0,
              "#0d0887"
             ],
             [
              0.1111111111111111,
              "#46039f"
             ],
             [
              0.2222222222222222,
              "#7201a8"
             ],
             [
              0.3333333333333333,
              "#9c179e"
             ],
             [
              0.4444444444444444,
              "#bd3786"
             ],
             [
              0.5555555555555556,
              "#d8576b"
             ],
             [
              0.6666666666666666,
              "#ed7953"
             ],
             [
              0.7777777777777778,
              "#fb9f3a"
             ],
             [
              0.8888888888888888,
              "#fdca26"
             ],
             [
              1,
              "#f0f921"
             ]
            ],
            "type": "heatmap"
           }
          ],
          "heatmapgl": [
           {
            "colorbar": {
             "outlinewidth": 0,
             "ticks": ""
            },
            "colorscale": [
             [
              0,
              "#0d0887"
             ],
             [
              0.1111111111111111,
              "#46039f"
             ],
             [
              0.2222222222222222,
              "#7201a8"
             ],
             [
              0.3333333333333333,
              "#9c179e"
             ],
             [
              0.4444444444444444,
              "#bd3786"
             ],
             [
              0.5555555555555556,
              "#d8576b"
             ],
             [
              0.6666666666666666,
              "#ed7953"
             ],
             [
              0.7777777777777778,
              "#fb9f3a"
             ],
             [
              0.8888888888888888,
              "#fdca26"
             ],
             [
              1,
              "#f0f921"
             ]
            ],
            "type": "heatmapgl"
           }
          ],
          "histogram": [
           {
            "marker": {
             "colorbar": {
              "outlinewidth": 0,
              "ticks": ""
             }
            },
            "type": "histogram"
           }
          ],
          "histogram2d": [
           {
            "colorbar": {
             "outlinewidth": 0,
             "ticks": ""
            },
            "colorscale": [
             [
              0,
              "#0d0887"
             ],
             [
              0.1111111111111111,
              "#46039f"
             ],
             [
              0.2222222222222222,
              "#7201a8"
             ],
             [
              0.3333333333333333,
              "#9c179e"
             ],
             [
              0.4444444444444444,
              "#bd3786"
             ],
             [
              0.5555555555555556,
              "#d8576b"
             ],
             [
              0.6666666666666666,
              "#ed7953"
             ],
             [
              0.7777777777777778,
              "#fb9f3a"
             ],
             [
              0.8888888888888888,
              "#fdca26"
             ],
             [
              1,
              "#f0f921"
             ]
            ],
            "type": "histogram2d"
           }
          ],
          "histogram2dcontour": [
           {
            "colorbar": {
             "outlinewidth": 0,
             "ticks": ""
            },
            "colorscale": [
             [
              0,
              "#0d0887"
             ],
             [
              0.1111111111111111,
              "#46039f"
             ],
             [
              0.2222222222222222,
              "#7201a8"
             ],
             [
              0.3333333333333333,
              "#9c179e"
             ],
             [
              0.4444444444444444,
              "#bd3786"
             ],
             [
              0.5555555555555556,
              "#d8576b"
             ],
             [
              0.6666666666666666,
              "#ed7953"
             ],
             [
              0.7777777777777778,
              "#fb9f3a"
             ],
             [
              0.8888888888888888,
              "#fdca26"
             ],
             [
              1,
              "#f0f921"
             ]
            ],
            "type": "histogram2dcontour"
           }
          ],
          "mesh3d": [
           {
            "colorbar": {
             "outlinewidth": 0,
             "ticks": ""
            },
            "type": "mesh3d"
           }
          ],
          "parcoords": [
           {
            "line": {
             "colorbar": {
              "outlinewidth": 0,
              "ticks": ""
             }
            },
            "type": "parcoords"
           }
          ],
          "pie": [
           {
            "automargin": true,
            "type": "pie"
           }
          ],
          "scatter": [
           {
            "marker": {
             "colorbar": {
              "outlinewidth": 0,
              "ticks": ""
             }
            },
            "type": "scatter"
           }
          ],
          "scatter3d": [
           {
            "line": {
             "colorbar": {
              "outlinewidth": 0,
              "ticks": ""
             }
            },
            "marker": {
             "colorbar": {
              "outlinewidth": 0,
              "ticks": ""
             }
            },
            "type": "scatter3d"
           }
          ],
          "scattercarpet": [
           {
            "marker": {
             "colorbar": {
              "outlinewidth": 0,
              "ticks": ""
             }
            },
            "type": "scattercarpet"
           }
          ],
          "scattergeo": [
           {
            "marker": {
             "colorbar": {
              "outlinewidth": 0,
              "ticks": ""
             }
            },
            "type": "scattergeo"
           }
          ],
          "scattergl": [
           {
            "marker": {
             "colorbar": {
              "outlinewidth": 0,
              "ticks": ""
             }
            },
            "type": "scattergl"
           }
          ],
          "scattermapbox": [
           {
            "marker": {
             "colorbar": {
              "outlinewidth": 0,
              "ticks": ""
             }
            },
            "type": "scattermapbox"
           }
          ],
          "scatterpolar": [
           {
            "marker": {
             "colorbar": {
              "outlinewidth": 0,
              "ticks": ""
             }
            },
            "type": "scatterpolar"
           }
          ],
          "scatterpolargl": [
           {
            "marker": {
             "colorbar": {
              "outlinewidth": 0,
              "ticks": ""
             }
            },
            "type": "scatterpolargl"
           }
          ],
          "scatterternary": [
           {
            "marker": {
             "colorbar": {
              "outlinewidth": 0,
              "ticks": ""
             }
            },
            "type": "scatterternary"
           }
          ],
          "surface": [
           {
            "colorbar": {
             "outlinewidth": 0,
             "ticks": ""
            },
            "colorscale": [
             [
              0,
              "#0d0887"
             ],
             [
              0.1111111111111111,
              "#46039f"
             ],
             [
              0.2222222222222222,
              "#7201a8"
             ],
             [
              0.3333333333333333,
              "#9c179e"
             ],
             [
              0.4444444444444444,
              "#bd3786"
             ],
             [
              0.5555555555555556,
              "#d8576b"
             ],
             [
              0.6666666666666666,
              "#ed7953"
             ],
             [
              0.7777777777777778,
              "#fb9f3a"
             ],
             [
              0.8888888888888888,
              "#fdca26"
             ],
             [
              1,
              "#f0f921"
             ]
            ],
            "type": "surface"
           }
          ],
          "table": [
           {
            "cells": {
             "fill": {
              "color": "#EBF0F8"
             },
             "line": {
              "color": "white"
             }
            },
            "header": {
             "fill": {
              "color": "#C8D4E3"
             },
             "line": {
              "color": "white"
             }
            },
            "type": "table"
           }
          ]
         },
         "layout": {
          "annotationdefaults": {
           "arrowcolor": "#2a3f5f",
           "arrowhead": 0,
           "arrowwidth": 1
          },
          "coloraxis": {
           "colorbar": {
            "outlinewidth": 0,
            "ticks": ""
           }
          },
          "colorscale": {
           "diverging": [
            [
             0,
             "#8e0152"
            ],
            [
             0.1,
             "#c51b7d"
            ],
            [
             0.2,
             "#de77ae"
            ],
            [
             0.3,
             "#f1b6da"
            ],
            [
             0.4,
             "#fde0ef"
            ],
            [
             0.5,
             "#f7f7f7"
            ],
            [
             0.6,
             "#e6f5d0"
            ],
            [
             0.7,
             "#b8e186"
            ],
            [
             0.8,
             "#7fbc41"
            ],
            [
             0.9,
             "#4d9221"
            ],
            [
             1,
             "#276419"
            ]
           ],
           "sequential": [
            [
             0,
             "#0d0887"
            ],
            [
             0.1111111111111111,
             "#46039f"
            ],
            [
             0.2222222222222222,
             "#7201a8"
            ],
            [
             0.3333333333333333,
             "#9c179e"
            ],
            [
             0.4444444444444444,
             "#bd3786"
            ],
            [
             0.5555555555555556,
             "#d8576b"
            ],
            [
             0.6666666666666666,
             "#ed7953"
            ],
            [
             0.7777777777777778,
             "#fb9f3a"
            ],
            [
             0.8888888888888888,
             "#fdca26"
            ],
            [
             1,
             "#f0f921"
            ]
           ],
           "sequentialminus": [
            [
             0,
             "#0d0887"
            ],
            [
             0.1111111111111111,
             "#46039f"
            ],
            [
             0.2222222222222222,
             "#7201a8"
            ],
            [
             0.3333333333333333,
             "#9c179e"
            ],
            [
             0.4444444444444444,
             "#bd3786"
            ],
            [
             0.5555555555555556,
             "#d8576b"
            ],
            [
             0.6666666666666666,
             "#ed7953"
            ],
            [
             0.7777777777777778,
             "#fb9f3a"
            ],
            [
             0.8888888888888888,
             "#fdca26"
            ],
            [
             1,
             "#f0f921"
            ]
           ]
          },
          "colorway": [
           "#636efa",
           "#EF553B",
           "#00cc96",
           "#ab63fa",
           "#FFA15A",
           "#19d3f3",
           "#FF6692",
           "#B6E880",
           "#FF97FF",
           "#FECB52"
          ],
          "font": {
           "color": "#2a3f5f"
          },
          "geo": {
           "bgcolor": "white",
           "lakecolor": "white",
           "landcolor": "#E5ECF6",
           "showlakes": true,
           "showland": true,
           "subunitcolor": "white"
          },
          "hoverlabel": {
           "align": "left"
          },
          "hovermode": "closest",
          "mapbox": {
           "style": "light"
          },
          "paper_bgcolor": "white",
          "plot_bgcolor": "#E5ECF6",
          "polar": {
           "angularaxis": {
            "gridcolor": "white",
            "linecolor": "white",
            "ticks": ""
           },
           "bgcolor": "#E5ECF6",
           "radialaxis": {
            "gridcolor": "white",
            "linecolor": "white",
            "ticks": ""
           }
          },
          "scene": {
           "xaxis": {
            "backgroundcolor": "#E5ECF6",
            "gridcolor": "white",
            "gridwidth": 2,
            "linecolor": "white",
            "showbackground": true,
            "ticks": "",
            "zerolinecolor": "white"
           },
           "yaxis": {
            "backgroundcolor": "#E5ECF6",
            "gridcolor": "white",
            "gridwidth": 2,
            "linecolor": "white",
            "showbackground": true,
            "ticks": "",
            "zerolinecolor": "white"
           },
           "zaxis": {
            "backgroundcolor": "#E5ECF6",
            "gridcolor": "white",
            "gridwidth": 2,
            "linecolor": "white",
            "showbackground": true,
            "ticks": "",
            "zerolinecolor": "white"
           }
          },
          "shapedefaults": {
           "line": {
            "color": "#2a3f5f"
           }
          },
          "ternary": {
           "aaxis": {
            "gridcolor": "white",
            "linecolor": "white",
            "ticks": ""
           },
           "baxis": {
            "gridcolor": "white",
            "linecolor": "white",
            "ticks": ""
           },
           "bgcolor": "#E5ECF6",
           "caxis": {
            "gridcolor": "white",
            "linecolor": "white",
            "ticks": ""
           }
          },
          "title": {
           "x": 0.05
          },
          "xaxis": {
           "automargin": true,
           "gridcolor": "white",
           "linecolor": "white",
           "ticks": "",
           "title": {
            "standoff": 15
           },
           "zerolinecolor": "white",
           "zerolinewidth": 2
          },
          "yaxis": {
           "automargin": true,
           "gridcolor": "white",
           "linecolor": "white",
           "ticks": "",
           "title": {
            "standoff": 15
           },
           "zerolinecolor": "white",
           "zerolinewidth": 2
          }
         }
        },
        "xaxis": {
         "constrain": "domain",
         "scaleanchor": "y"
        },
        "yaxis": {
         "autorange": "reversed",
         "constrain": "domain"
        }
       }
      },
      "text/html": [
       "<div>\n",
       "        \n",
       "        \n",
       "            <div id=\"3a1bd0f6-499e-4ef3-b41d-dcadbd6b61b8\" class=\"plotly-graph-div\" style=\"height:525px; width:100%;\"></div>\n",
       "            <script type=\"text/javascript\">\n",
       "                require([\"plotly\"], function(Plotly) {\n",
       "                    window.PLOTLYENV=window.PLOTLYENV || {};\n",
       "                    \n",
       "                if (document.getElementById(\"3a1bd0f6-499e-4ef3-b41d-dcadbd6b61b8\")) {\n",
       "                    Plotly.newPlot(\n",
       "                        '3a1bd0f6-499e-4ef3-b41d-dcadbd6b61b8',\n",
       "                        [{\"coloraxis\": \"coloraxis\", \"hovertemplate\": \"x: %{x}<br>y: %{y}<br>color: %{z}<extra></extra>\", \"type\": \"heatmap\", \"z\": [[1.0, -0.027825983555661498, -0.03498689962457974, 0.06024738825957992, 0.35508829470764314], [-0.027825983555661498, 1.0, 0.08238827319098167, 0.029142563136158508, 0.4993277700534509], [-0.03498689962457974, 0.08238827319098167, 1.0, -0.04758181883946129, -0.0026408446721588744], [0.06024738825957992, 0.029142563136158508, -0.04758181883946129, 1.0, 0.8090835682475818], [0.35508829470764314, 0.4993277700534509, -0.0026408446721588744, 0.8090835682475818, 1.0]]}],\n",
       "                        {\"coloraxis\": {\"colorscale\": [[0.0, \"#0d0887\"], [0.1111111111111111, \"#46039f\"], [0.2222222222222222, \"#7201a8\"], [0.3333333333333333, \"#9c179e\"], [0.4444444444444444, \"#bd3786\"], [0.5555555555555556, \"#d8576b\"], [0.6666666666666666, \"#ed7953\"], [0.7777777777777778, \"#fb9f3a\"], [0.8888888888888888, \"#fdca26\"], [1.0, \"#f0f921\"]]}, \"margin\": {\"t\": 60}, \"template\": {\"data\": {\"bar\": [{\"error_x\": {\"color\": \"#2a3f5f\"}, \"error_y\": {\"color\": \"#2a3f5f\"}, \"marker\": {\"line\": {\"color\": \"#E5ECF6\", \"width\": 0.5}}, \"type\": \"bar\"}], \"barpolar\": [{\"marker\": {\"line\": {\"color\": \"#E5ECF6\", \"width\": 0.5}}, \"type\": \"barpolar\"}], \"carpet\": [{\"aaxis\": {\"endlinecolor\": \"#2a3f5f\", \"gridcolor\": \"white\", \"linecolor\": \"white\", \"minorgridcolor\": \"white\", \"startlinecolor\": \"#2a3f5f\"}, \"baxis\": {\"endlinecolor\": \"#2a3f5f\", \"gridcolor\": \"white\", \"linecolor\": \"white\", \"minorgridcolor\": \"white\", \"startlinecolor\": \"#2a3f5f\"}, \"type\": \"carpet\"}], \"choropleth\": [{\"colorbar\": {\"outlinewidth\": 0, \"ticks\": \"\"}, \"type\": \"choropleth\"}], \"contour\": [{\"colorbar\": {\"outlinewidth\": 0, \"ticks\": \"\"}, \"colorscale\": [[0.0, \"#0d0887\"], [0.1111111111111111, \"#46039f\"], [0.2222222222222222, \"#7201a8\"], [0.3333333333333333, \"#9c179e\"], [0.4444444444444444, \"#bd3786\"], [0.5555555555555556, \"#d8576b\"], [0.6666666666666666, \"#ed7953\"], [0.7777777777777778, \"#fb9f3a\"], [0.8888888888888888, \"#fdca26\"], [1.0, \"#f0f921\"]], \"type\": \"contour\"}], \"contourcarpet\": [{\"colorbar\": {\"outlinewidth\": 0, \"ticks\": \"\"}, \"type\": \"contourcarpet\"}], \"heatmap\": [{\"colorbar\": {\"outlinewidth\": 0, \"ticks\": \"\"}, \"colorscale\": [[0.0, \"#0d0887\"], [0.1111111111111111, \"#46039f\"], [0.2222222222222222, \"#7201a8\"], [0.3333333333333333, \"#9c179e\"], [0.4444444444444444, \"#bd3786\"], [0.5555555555555556, \"#d8576b\"], [0.6666666666666666, \"#ed7953\"], [0.7777777777777778, \"#fb9f3a\"], [0.8888888888888888, \"#fdca26\"], [1.0, \"#f0f921\"]], \"type\": \"heatmap\"}], \"heatmapgl\": [{\"colorbar\": {\"outlinewidth\": 0, \"ticks\": \"\"}, \"colorscale\": [[0.0, \"#0d0887\"], [0.1111111111111111, \"#46039f\"], [0.2222222222222222, \"#7201a8\"], [0.3333333333333333, \"#9c179e\"], [0.4444444444444444, \"#bd3786\"], [0.5555555555555556, \"#d8576b\"], [0.6666666666666666, \"#ed7953\"], [0.7777777777777778, \"#fb9f3a\"], [0.8888888888888888, \"#fdca26\"], [1.0, \"#f0f921\"]], \"type\": \"heatmapgl\"}], \"histogram\": [{\"marker\": {\"colorbar\": {\"outlinewidth\": 0, \"ticks\": \"\"}}, \"type\": \"histogram\"}], \"histogram2d\": [{\"colorbar\": {\"outlinewidth\": 0, \"ticks\": \"\"}, \"colorscale\": [[0.0, \"#0d0887\"], [0.1111111111111111, \"#46039f\"], [0.2222222222222222, \"#7201a8\"], [0.3333333333333333, \"#9c179e\"], [0.4444444444444444, \"#bd3786\"], [0.5555555555555556, \"#d8576b\"], [0.6666666666666666, \"#ed7953\"], [0.7777777777777778, \"#fb9f3a\"], [0.8888888888888888, \"#fdca26\"], [1.0, \"#f0f921\"]], \"type\": \"histogram2d\"}], \"histogram2dcontour\": [{\"colorbar\": {\"outlinewidth\": 0, \"ticks\": \"\"}, \"colorscale\": [[0.0, \"#0d0887\"], [0.1111111111111111, \"#46039f\"], [0.2222222222222222, \"#7201a8\"], [0.3333333333333333, \"#9c179e\"], [0.4444444444444444, \"#bd3786\"], [0.5555555555555556, \"#d8576b\"], [0.6666666666666666, \"#ed7953\"], [0.7777777777777778, \"#fb9f3a\"], [0.8888888888888888, \"#fdca26\"], [1.0, \"#f0f921\"]], \"type\": \"histogram2dcontour\"}], \"mesh3d\": [{\"colorbar\": {\"outlinewidth\": 0, \"ticks\": \"\"}, \"type\": \"mesh3d\"}], \"parcoords\": [{\"line\": {\"colorbar\": {\"outlinewidth\": 0, \"ticks\": \"\"}}, \"type\": \"parcoords\"}], \"pie\": [{\"automargin\": true, \"type\": \"pie\"}], \"scatter\": [{\"marker\": {\"colorbar\": {\"outlinewidth\": 0, \"ticks\": \"\"}}, \"type\": \"scatter\"}], \"scatter3d\": [{\"line\": {\"colorbar\": {\"outlinewidth\": 0, \"ticks\": \"\"}}, \"marker\": {\"colorbar\": {\"outlinewidth\": 0, \"ticks\": \"\"}}, \"type\": \"scatter3d\"}], \"scattercarpet\": [{\"marker\": {\"colorbar\": {\"outlinewidth\": 0, \"ticks\": \"\"}}, \"type\": \"scattercarpet\"}], \"scattergeo\": [{\"marker\": {\"colorbar\": {\"outlinewidth\": 0, \"ticks\": \"\"}}, \"type\": \"scattergeo\"}], \"scattergl\": [{\"marker\": {\"colorbar\": {\"outlinewidth\": 0, \"ticks\": \"\"}}, \"type\": \"scattergl\"}], \"scattermapbox\": [{\"marker\": {\"colorbar\": {\"outlinewidth\": 0, \"ticks\": \"\"}}, \"type\": \"scattermapbox\"}], \"scatterpolar\": [{\"marker\": {\"colorbar\": {\"outlinewidth\": 0, \"ticks\": \"\"}}, \"type\": \"scatterpolar\"}], \"scatterpolargl\": [{\"marker\": {\"colorbar\": {\"outlinewidth\": 0, \"ticks\": \"\"}}, \"type\": \"scatterpolargl\"}], \"scatterternary\": [{\"marker\": {\"colorbar\": {\"outlinewidth\": 0, \"ticks\": \"\"}}, \"type\": \"scatterternary\"}], \"surface\": [{\"colorbar\": {\"outlinewidth\": 0, \"ticks\": \"\"}, \"colorscale\": [[0.0, \"#0d0887\"], [0.1111111111111111, \"#46039f\"], [0.2222222222222222, \"#7201a8\"], [0.3333333333333333, \"#9c179e\"], [0.4444444444444444, \"#bd3786\"], [0.5555555555555556, \"#d8576b\"], [0.6666666666666666, \"#ed7953\"], [0.7777777777777778, \"#fb9f3a\"], [0.8888888888888888, \"#fdca26\"], [1.0, \"#f0f921\"]], \"type\": \"surface\"}], \"table\": [{\"cells\": {\"fill\": {\"color\": \"#EBF0F8\"}, \"line\": {\"color\": \"white\"}}, \"header\": {\"fill\": {\"color\": \"#C8D4E3\"}, \"line\": {\"color\": \"white\"}}, \"type\": \"table\"}]}, \"layout\": {\"annotationdefaults\": {\"arrowcolor\": \"#2a3f5f\", \"arrowhead\": 0, \"arrowwidth\": 1}, \"coloraxis\": {\"colorbar\": {\"outlinewidth\": 0, \"ticks\": \"\"}}, \"colorscale\": {\"diverging\": [[0, \"#8e0152\"], [0.1, \"#c51b7d\"], [0.2, \"#de77ae\"], [0.3, \"#f1b6da\"], [0.4, \"#fde0ef\"], [0.5, \"#f7f7f7\"], [0.6, \"#e6f5d0\"], [0.7, \"#b8e186\"], [0.8, \"#7fbc41\"], [0.9, \"#4d9221\"], [1, \"#276419\"]], \"sequential\": [[0.0, \"#0d0887\"], [0.1111111111111111, \"#46039f\"], [0.2222222222222222, \"#7201a8\"], [0.3333333333333333, \"#9c179e\"], [0.4444444444444444, \"#bd3786\"], [0.5555555555555556, \"#d8576b\"], [0.6666666666666666, \"#ed7953\"], [0.7777777777777778, \"#fb9f3a\"], [0.8888888888888888, \"#fdca26\"], [1.0, \"#f0f921\"]], \"sequentialminus\": [[0.0, \"#0d0887\"], [0.1111111111111111, \"#46039f\"], [0.2222222222222222, \"#7201a8\"], [0.3333333333333333, \"#9c179e\"], [0.4444444444444444, \"#bd3786\"], [0.5555555555555556, \"#d8576b\"], [0.6666666666666666, \"#ed7953\"], [0.7777777777777778, \"#fb9f3a\"], [0.8888888888888888, \"#fdca26\"], [1.0, \"#f0f921\"]]}, \"colorway\": [\"#636efa\", \"#EF553B\", \"#00cc96\", \"#ab63fa\", \"#FFA15A\", \"#19d3f3\", \"#FF6692\", \"#B6E880\", \"#FF97FF\", \"#FECB52\"], \"font\": {\"color\": \"#2a3f5f\"}, \"geo\": {\"bgcolor\": \"white\", \"lakecolor\": \"white\", \"landcolor\": \"#E5ECF6\", \"showlakes\": true, \"showland\": true, \"subunitcolor\": \"white\"}, \"hoverlabel\": {\"align\": \"left\"}, \"hovermode\": \"closest\", \"mapbox\": {\"style\": \"light\"}, \"paper_bgcolor\": \"white\", \"plot_bgcolor\": \"#E5ECF6\", \"polar\": {\"angularaxis\": {\"gridcolor\": \"white\", \"linecolor\": \"white\", \"ticks\": \"\"}, \"bgcolor\": \"#E5ECF6\", \"radialaxis\": {\"gridcolor\": \"white\", \"linecolor\": \"white\", \"ticks\": \"\"}}, \"scene\": {\"xaxis\": {\"backgroundcolor\": \"#E5ECF6\", \"gridcolor\": \"white\", \"gridwidth\": 2, \"linecolor\": \"white\", \"showbackground\": true, \"ticks\": \"\", \"zerolinecolor\": \"white\"}, \"yaxis\": {\"backgroundcolor\": \"#E5ECF6\", \"gridcolor\": \"white\", \"gridwidth\": 2, \"linecolor\": \"white\", \"showbackground\": true, \"ticks\": \"\", \"zerolinecolor\": \"white\"}, \"zaxis\": {\"backgroundcolor\": \"#E5ECF6\", \"gridcolor\": \"white\", \"gridwidth\": 2, \"linecolor\": \"white\", \"showbackground\": true, \"ticks\": \"\", \"zerolinecolor\": \"white\"}}, \"shapedefaults\": {\"line\": {\"color\": \"#2a3f5f\"}}, \"ternary\": {\"aaxis\": {\"gridcolor\": \"white\", \"linecolor\": \"white\", \"ticks\": \"\"}, \"baxis\": {\"gridcolor\": \"white\", \"linecolor\": \"white\", \"ticks\": \"\"}, \"bgcolor\": \"#E5ECF6\", \"caxis\": {\"gridcolor\": \"white\", \"linecolor\": \"white\", \"ticks\": \"\"}}, \"title\": {\"x\": 0.05}, \"xaxis\": {\"automargin\": true, \"gridcolor\": \"white\", \"linecolor\": \"white\", \"ticks\": \"\", \"title\": {\"standoff\": 15}, \"zerolinecolor\": \"white\", \"zerolinewidth\": 2}, \"yaxis\": {\"automargin\": true, \"gridcolor\": \"white\", \"linecolor\": \"white\", \"ticks\": \"\", \"title\": {\"standoff\": 15}, \"zerolinecolor\": \"white\", \"zerolinewidth\": 2}}}, \"xaxis\": {\"constrain\": \"domain\", \"scaleanchor\": \"y\"}, \"yaxis\": {\"autorange\": \"reversed\", \"constrain\": \"domain\"}},\n",
       "                        {\"responsive\": true}\n",
       "                    ).then(function(){\n",
       "                            \n",
       "var gd = document.getElementById('3a1bd0f6-499e-4ef3-b41d-dcadbd6b61b8');\n",
       "var x = new MutationObserver(function (mutations, observer) {{\n",
       "        var display = window.getComputedStyle(gd).display;\n",
       "        if (!display || display === 'none') {{\n",
       "            console.log([gd, 'removed!']);\n",
       "            Plotly.purge(gd);\n",
       "            observer.disconnect();\n",
       "        }}\n",
       "}});\n",
       "\n",
       "// Listen for the removal of the full notebook cells\n",
       "var notebookContainer = gd.closest('#notebook-container');\n",
       "if (notebookContainer) {{\n",
       "    x.observe(notebookContainer, {childList: true});\n",
       "}}\n",
       "\n",
       "// Listen for the clearing of the current output cell\n",
       "var outputEl = gd.closest('.output');\n",
       "if (outputEl) {{\n",
       "    x.observe(outputEl, {childList: true});\n",
       "}}\n",
       "\n",
       "                        })\n",
       "                };\n",
       "                });\n",
       "            </script>\n",
       "        </div>"
      ]
     },
     "metadata": {},
     "output_type": "display_data"
    }
   ],
   "source": [
    "px.imshow(a)"
   ]
  },
  {
   "cell_type": "code",
   "execution_count": 113,
   "metadata": {},
   "outputs": [
    {
     "data": {
      "application/vnd.plotly.v1+json": {
       "config": {
        "plotlyServerURL": "https://plot.ly"
       },
       "data": [
        {
         "dimensions": [
          {
           "axis": {
            "matches": true
           },
           "label": "Avg Session Length",
           "values": [
            34.49726772511229,
            31.92627202636016,
            33.000914755642675,
            34.30555662975554,
            33.33067252364639,
            33.871037879341976,
            32.02159550138701,
            32.739142938380326,
            33.98777289568564,
            31.93654861844892,
            33.992572774953736,
            33.87936082480498,
            29.532428967057943,
            33.19033404372265,
            32.387975853153876,
            30.737720372628182,
            32.12538689728784,
            32.338899323067196,
            32.187812045932155,
            32.61785606282345,
            32.912785111159785,
            33.503087256719716,
            31.53160448257291,
            32.903250973372074,
            34.50755099852662,
            33.02933195350689,
            33.54123131310037,
            32.33598963740772,
            33.110205057717764,
            33.10543794246846,
            33.24190043446127,
            33.46105629551836,
            32.175501237949376,
            32.72836000313375,
            32.82030994541536,
            33.61603789276768,
            31.721652360509037,
            32.8653271748764,
            32.74936818112046,
            32.567230480275114,
            32.07054622092545,
            33.01954798572344,
            33.79203907501622,
            32.89398062181101,
            32.04448612744043,
            34.55576799465749,
            34.56455770619167,
            32.726784597863976,
            33.117218732994786,
            31.661049822746076,
            33.25633546983111,
            33.90022441401576,
            34.18777482695728,
            33.762069239131385,
            34.390163664343326,
            33.92529660119954,
            32.68822929602445,
            34.3018702154015,
            32.843930222655175,
            33.75499472831927,
            33.879784289702826,
            33.07653560709715,
            32.227299136367215,
            32.789772618310714,
            32.77260992960089,
            34.374258045247466,
            33.0787172146689,
            32.80522040097184,
            32.43075793005128,
            32.179099972602344,
            33.15417578832186,
            34.33589583979252,
            32.38625185558597,
            32.808697592685014,
            33.879744967981246,
            32.04983939045731,
            33.555207421432236,
            33.14207932732039,
            32.597182659813626,
            33.167136876950536,
            31.514737857801986,
            34.59402114954151,
            33.50136982210362,
            32.40237101796123,
            34.655485679579876,
            31.80930031667919,
            33.87777930012253,
            34.44787143648077,
            31.95630056052337,
            32.605583641570504,
            32.491446603122874,
            33.616018552595435,
            33.47160052695171,
            33.710653059122684,
            32.19772379742183,
            32.46121244511541,
            33.790387206952126,
            34.18382052058911,
            32.288666909138946,
            33.826352009072124,
            32.49839307472945,
            31.88540629991176,
            32.425697279750864,
            33.43782956230187,
            31.389585480664397,
            33.46869994900622,
            32.291756100263015,
            32.063774620313694,
            33.15569970295208,
            33.35687434475742,
            31.85307480174657,
            32.01230076824544,
            32.388451625505326,
            32.65318145878372,
            32.93133644189654,
            33.23560650069385,
            33.92579489547877,
            33.05926409135838,
            32.401731827354666,
            33.88994100692418,
            34.569381218693444,
            33.70160519868888,
            33.26833021768797,
            31.35847719243701,
            33.01479221522831,
            31.57613197132227,
            32.657268594778124,
            34.709323296131586,
            34.536659179877404,
            32.771715009701,
            33.70040045682241,
            32.43977025334846,
            34.31216699740784,
            32.45517628513712,
            33.540976791782235,
            33.358398281424215,
            32.68612925611517,
            34.558294609144475,
            33.5477479443078,
            31.95490385663485,
            31.066218161637593,
            31.85125312860837,
            32.609282635640405,
            32.11511906601424,
            33.924624809512075,
            33.477190403003306,
            32.116400120928155,
            32.255901204449785,
            32.69239221858063,
            32.384732659005124,
            34.3387293850918,
            32.88710464561531,
            32.510217994444325,
            31.94539574834452,
            36.13966248879052,
            32.44952156114242,
            32.294641549565036,
            34.60331111938746,
            33.5985203185533,
            34.56868084571511,
            32.83810016055479,
            33.50370517913956,
            33.30188161463884,
            30.879484344127498,
            33.15425475700075,
            32.04780097886789,
            33.63080076787103,
            34.04663802802127,
            33.644177000440536,
            32.65462160732388,
            33.42874704259606,
            31.864832548098732,
            34.48238804881123,
            32.529768731474434,
            33.432231396262715,
            33.30857161628053,
            32.33263706834172,
            34.71345123397026,
            32.63587799818993,
            33.07570303157222,
            32.23014911593311,
            34.142863372870714,
            32.4971984614607,
            33.122399984316985,
            33.088529366211525,
            32.53379686092211,
            32.48426048276214,
            32.543459169597696,
            32.28312306113335,
            32.200798643965314,
            34.71331650656199,
            32.71251232693568,
            33.69489765096749,
            31.570200829320264,
            33.459476848964336,
            31.820998201672072,
            32.73322416398153,
            32.407148299996685,
            33.506092281309364,
            30.83643267477343,
            34.87849495417028,
            34.00721197222165,
            31.525752416968214,
            31.04722213948752,
            34.59577669439264,
            34.96760988717724,
            32.29524762622046,
            33.324240521849696,
            32.903454333014224,
            32.55949313011333,
            31.76561882104241,
            34.08164619679617,
            33.304431285296005,
            34.33075044367848,
            32.07894757956938,
            33.605798998912356,
            32.74515048083576,
            32.12236479579778,
            32.53082944110282,
            31.736635686050285,
            34.11756669418932,
            33.63662445812838,
            34.33486453305802,
            34.814983943728855,
            34.642669758092204,
            32.83694076702139,
            32.299647163504964,
            31.94801742116136,
            32.72731919612472,
            33.94624061993669,
            32.35147815076609,
            34.173752023676585,
            32.97518182625784,
            32.00475302036483,
            34.19705969450868,
            33.177204666060376,
            32.69323953887129,
            31.625360134830608,
            31.260646869879523,
            31.72076990028731,
            32.92261075834941,
            32.68624509039022,
            34.05094675856064,
            32.454552537551066,
            31.283447476058157,
            32.98002919845364,
            31.909626827522736,
            34.40240964824356,
            32.95976431107423,
            33.78015676329505,
            32.6729435250038,
            32.72852076313786,
            33.40992258786484,
            31.724202523845182,
            32.71111929929533,
            33.1366552476793,
            34.37939438496412,
            35.530904145898624,
            33.24726795047748,
            32.096108993845185,
            35.039283064909725,
            32.55052657442161,
            32.58249357081853,
            33.296981924626486,
            33.108336148346,
            33.902717794463925,
            34.55528258670921,
            33.73264839262621,
            31.60051220030329,
            34.318927438542204,
            34.00648891839723,
            33.54047906012372,
            34.43642583784763,
            33.55169913754013,
            31.818616566769066,
            32.36312129411639,
            33.191570884444964,
            32.19249882778649,
            32.60790271932764,
            32.26200310699493,
            32.271848280874984,
            33.79512493081247,
            31.654809675692764,
            33.07773079450243,
            31.312349599444342,
            32.87273861448019,
            33.708153408093004,
            33.908565031728365,
            32.31290974594309,
            34.39432664844985,
            32.42330472721988,
            33.539396346976595,
            33.37401692609311,
            33.794755944865194,
            33.7709000976483,
            31.309192640891823,
            33.612563354981084,
            33.39826012958678,
            33.622591840455804,
            30.4925366965402,
            31.904857131013607,
            33.0264203526517,
            32.975192902963855,
            30.81620064887634,
            33.91401511732236,
            33.30267220801569,
            31.91207592920061,
            32.40855895733437,
            32.64461690576892,
            34.10227850874102,
            33.24850620315415,
            34.72908016563062,
            30.3931845423455,
            33.3841105711181,
            32.878474365657695,
            34.50141785278397,
            33.56647438959015,
            32.8487928288471,
            33.53186013061325,
            33.41906734548329,
            32.495418773654315,
            33.67402747501462,
            33.264632073163924,
            32.76245596030955,
            33.47947160188164,
            33.785207205733194,
            33.21718784289895,
            31.128090049616628,
            33.36951735608769,
            32.837893053239185,
            30.57436368417137,
            32.27459383033916,
            33.14423399987652,
            33.4855197629536,
            31.97648006146129,
            32.13386240984833,
            32.302553103111435,
            31.82797905546526,
            32.018074010632084,
            32.997459002491695,
            31.81642833419931,
            34.46151473966461,
            32.34279623166797,
            32.30274837339047,
            33.06644065628263,
            33.89464038846548,
            32.765664587506606,
            33.76981237165136,
            31.812482559724263,
            32.00850451785513,
            33.30433661798984,
            32.189844729273545,
            34.9356051056443,
            33.55165060797954,
            32.386968674631895,
            33.34450868519732,
            33.6727578867203,
            34.00207092262163,
            32.65539704223188,
            32.054261851184755,
            33.22877226969563,
            32.07759004432913,
            33.981005579787784,
            34.17951756796679,
            32.60273898042012,
            32.03054971621298,
            33.100357750772915,
            32.99059904291544,
            34.385820292995376,
            34.357196268204405,
            33.70511279750195,
            32.404295045983574,
            31.82934645592113,
            31.36621216718769,
            31.447446494127817,
            33.58294683702328,
            32.39742194430904,
            35.03744996157605,
            32.78494023263413,
            33.9717220376126,
            33.38599019075222,
            33.556555671402755,
            33.58737339024554,
            34.18818406101828,
            33.59396354804201,
            33.236265721508744,
            33.20891970058922,
            33.63781167586591,
            33.59048580327403,
            34.195508030962635,
            35.860236513353094,
            33.48193057257537,
            33.25823783380398,
            32.319857972167306,
            32.430838579082014,
            31.44597248275779,
            35.74266980593494,
            34.012619460656374,
            34.14039342796294,
            32.37798965892753,
            33.17233109074306,
            33.24732220295966,
            33.598913339294036,
            33.08529799058909,
            32.27844334791965,
            33.441553044751224,
            32.86530120924307,
            31.526197898239808,
            33.00084964015205,
            32.08838063044821,
            33.265444472845786,
            32.992573196692234,
            33.86318870719846,
            32.59209322575472,
            32.381034590963445,
            31.51712180250623,
            33.454301926040195,
            32.21552741998912,
            31.67391550327495,
            33.71755461300513,
            33.21547157476038,
            31.574138022873235,
            33.89457038870139,
            33.12869268643142,
            34.370327046164306,
            34.08026009173408,
            31.425226880854808,
            33.62530726457669,
            31.8627411090001,
            33.29258730730077,
            33.749227770813306,
            34.14496898723948,
            31.123974349911947,
            34.278247879997245,
            33.66661568345138,
            32.259973265557015,
            35.43316530057876,
            31.967320947882403,
            32.149060522105984,
            33.91884417783405,
            33.20061634140451,
            32.53677489754807,
            34.083663301629485,
            33.025020138575876,
            31.268104210750717,
            32.21292383005795,
            33.499506100675546,
            32.904853667353976,
            32.204654645678524,
            32.67515450844823,
            32.99838766242905,
            33.9431185791017,
            33.55210836340867,
            33.67683086814267,
            32.641946365588176,
            33.42121218172261,
            32.76707608122926,
            33.11995442833815,
            35.37187609232446,
            33.9760825800378,
            34.03416353106073,
            32.770492158549345,
            33.50381038174352,
            31.87455169458537,
            32.53323998265473,
            34.85131416586477,
            34.21146128149797,
            33.45961931752967,
            34.200539409318985,
            31.16950679871159,
            32.51819681399925,
            34.523019620716326,
            33.66599032199544,
            31.60983957338964,
            33.70088553901973,
            33.81173340621725,
            34.33667722314705,
            31.061325156716126,
            33.06976829928679,
            34.60624245261783,
            34.238241911920284,
            32.04781463313985,
            30.971675643887767,
            33.606850823118876,
            33.448125009346555,
            33.369380938205474,
            33.452295280190306,
            32.904692444916265,
            35.63085386109822,
            32.2463499961189,
            34.69559119111866,
            34.343921908427575,
            33.68093694960616,
            32.060914398410056,
            33.431097102487136,
            33.23765998436727,
            34.70252897286158,
            32.64677668060689,
            33.322501051305466,
            33.71598091844986
           ]
          },
          {
           "axis": {
            "matches": true
           },
           "label": "Time on App",
           "values": [
            12.65565114916675,
            11.109460728682564,
            11.330278057777512,
            13.717513665142507,
            12.795188551078114,
            12.026925339755053,
            11.366348309710526,
            12.35195897300293,
            13.386235275676436,
            11.814128294972196,
            13.338975447662113,
            11.584782999535266,
            10.961298400154098,
            12.959226091609382,
            13.148725692056516,
            12.636606052000127,
            11.733861690857394,
            12.013194694014402,
            14.7153875441565,
            13.989592555825254,
            11.365492025516154,
            12.87798369625634,
            13.378562784168984,
            11.657575922065588,
            12.893669504071738,
            11.765812645482356,
            12.783891784275019,
            13.007819424388568,
            11.982044994015613,
            11.965020002997901,
            12.305417813429447,
            10.869163814130363,
            13.387492105579696,
            13.1045072428758,
            11.634893252550464,
            11.936386499892285,
            11.75502370305383,
            11.984417523634924,
            9.954975969174418,
            12.489013215743663,
            11.733106220383403,
            10.634561317920276,
            12.507525374016035,
            11.52987820576495,
            13.414934735851688,
            12.170525424959395,
            13.146551432907062,
            12.988510147185293,
            11.864126358942508,
            11.398064190096813,
            13.85806246213124,
            10.956790967791653,
            10.320116255059194,
            9.98451439654646,
            12.645195140843521,
            11.588655423353044,
            13.761532847115614,
            10.56829468563276,
            11.832286222863624,
            12.064156632199321,
            12.495591602384836,
            9.607314687519166,
            13.728627177429864,
            11.670065919118974,
            13.276313008175375,
            15.126994288792467,
            12.695789749023144,
            11.835476087614285,
            11.306232344673575,
            11.187538910878676,
            11.887494133971662,
            12.2289347111239,
            10.674653472691904,
            12.817113090284247,
            13.5878060830337,
            12.238057349986248,
            11.55182116621942,
            11.433379933334455,
            10.889566863427978,
            11.928842093866267,
            12.595671305072534,
            10.947258584185183,
            13.898081993497069,
            10.875559548189257,
            10.338072695038539,
            11.63466821794247,
            12.517666287393075,
            10.607723870859086,
            12.8288933950187,
            12.068816079691766,
            12.530357373542886,
            13.516284296962846,
            11.662263431208274,
            13.664747875183544,
            11.83023109487895,
            13.291143045352886,
            11.942340869536073,
            13.349912944366533,
            12.020112091208748,
            12.084091730811036,
            13.410759184940549,
            11.28193107410364,
            11.448901535513794,
            12.595420346380534,
            10.994223919350974,
            13.085505760060856,
            12.190474287309025,
            10.719149740628396,
            12.931550271647987,
            13.452128959435642,
            12.149375491578276,
            12.178331333996287,
            11.010482132400076,
            11.60253219348616,
            12.732211588456625,
            11.223368888365105,
            12.01102187657459,
            11.725910097840956,
            12.089309572437351,
            13.068638584182436,
            12.85499036656409,
            11.564022368065539,
            11.113329897404322,
            12.809883473378115,
            11.761172325483107,
            12.579894173618062,
            11.957923064554107,
            10.651793783474174,
            12.75207661096469,
            11.540832436151053,
            11.924394923280015,
            12.4241304114395,
            11.810586764578169,
            12.759168978762087,
            11.85189083494272,
            12.70368792886871,
            12.21525242490249,
            11.281445003567141,
            10.735362917985057,
            10.963131776054833,
            11.735094549013706,
            12.41896198100501,
            10.537307537840883,
            11.919242397939177,
            11.911415556879856,
            12.488067002053027,
            12.380694979552985,
            10.480506832694497,
            12.296517680733736,
            10.86160419912899,
            10.716355140061573,
            12.387184173554845,
            10.984835888186163,
            12.965761479512215,
            12.050267234380506,
            13.45772494051235,
            12.443047890439868,
            12.207298491050794,
            11.586319529181235,
            11.378087087773375,
            12.364341604455195,
            12.399436075147092,
            12.542481050786341,
            13.280432242922116,
            11.795886676889108,
            12.718039174525654,
            12.039647840787234,
            12.474455453922836,
            13.160020040286033,
            11.052323653306685,
            10.636761083696546,
            13.443405985146253,
            13.28303286832567,
            11.747731701242175,
            10.859608533152716,
            11.691686125826351,
            11.548761439776756,
            11.72400223179126,
            12.178573080885847,
            12.319845062066673,
            11.084360836740514,
            13.177774533773801,
            12.832802836968114,
            11.509047996817198,
            11.85766344472502,
            12.293365838346627,
            10.93325227854703,
            13.332839284456394,
            10.902556227019767,
            12.276981712741964,
            12.038808239866547,
            11.724473856834607,
            11.202669899735568,
            13.378063328893633,
            11.388612618641035,
            10.771074062599588,
            11.818571762284998,
            13.808798675105965,
            11.659832840871447,
            13.100109538542807,
            13.067895684999526,
            12.494322933269393,
            11.340035931978807,
            11.199660962300452,
            11.332487778094174,
            13.91949439608817,
            11.031358340409188,
            11.084584086421874,
            10.542645423983108,
            11.79779551488024,
            12.442616548294636,
            12.104542428062684,
            12.37849022280867,
            13.722453676229962,
            12.725909323593955,
            13.685118899623587,
            10.012583366223023,
            11.435533874300315,
            12.354607081759855,
            10.748533655415796,
            11.59187166512224,
            11.236506758754027,
            11.109456333168433,
            12.114944955194904,
            11.866481205181707,
            10.25654903128796,
            12.168596472860555,
            13.085356892368793,
            13.013375627349653,
            10.9839767277944,
            13.105158522307253,
            12.144748536704865,
            13.90991551102909,
            11.395209434440885,
            13.033566182687187,
            11.622777173031125,
            12.600750401563928,
            13.187910985159366,
            13.266760352944493,
            11.752343171850052,
            11.56811634209842,
            12.638572122192118,
            11.388644575171455,
            11.82298329832392,
            12.725677367222989,
            11.201159766003187,
            11.347263611462731,
            14.220979108167345,
            11.546275759510358,
            11.91763618310149,
            12.276056984463208,
            10.131712461927217,
            12.026942222615626,
            13.172287495263063,
            12.326291385476885,
            13.891313421778493,
            12.930928541308225,
            11.379257182400215,
            14.069382336483994,
            10.804890557641668,
            14.426491050422625,
            13.041244588162265,
            11.739743796165989,
            12.491058738018813,
            12.892374513653696,
            11.668866514553866,
            11.777772039564965,
            12.138793877121687,
            12.222967446546054,
            13.402331896928285,
            12.956276605432244,
            12.884124621344766,
            13.325469096138633,
            12.15858523387948,
            11.226545663510619,
            12.461135435006733,
            9.846124908736233,
            13.32541218598226,
            13.677245841523792,
            11.644969546399302,
            13.485008988077054,
            11.620996507575207,
            13.014459152355206,
            11.466984219092824,
            11.684904192367506,
            12.09396635537946,
            14.325654943309248,
            12.914846634589114,
            9.8244017703894,
            12.807751833234732,
            13.058277927143259,
            10.534553499461076,
            11.143433077943628,
            10.982805534662877,
            11.153966054877387,
            11.947175323941774,
            11.47056500466582,
            11.03785041365591,
            11.167356897497287,
            11.562936246652605,
            12.227728279686652,
            13.18681287300118,
            13.394451788942055,
            11.851398743073142,
            12.266503838947587,
            13.459222289832475,
            11.792971821961505,
            10.98574015235435,
            12.637557159364276,
            8.508152176032603,
            11.656592033851751,
            11.9668980767806,
            11.80298577760313,
            12.677401437121036,
            13.032534975943193,
            12.44761745405695,
            12.235659245108506,
            10.973162084317348,
            13.665769794267847,
            13.391120179234008,
            12.96832561098067,
            12.968893130527091,
            10.732131340303663,
            10.952353380458653,
            12.60888879370027,
            13.039511025284968,
            10.999683661085923,
            13.278956228597714,
            10.62794922615627,
            13.185181167368498,
            11.351049011250833,
            12.954811454937932,
            11.73704063527238,
            11.887345302061831,
            10.757130926114415,
            11.612650769570312,
            11.979061483915341,
            12.461147444665412,
            10.079463451952432,
            12.589240561061525,
            14.2880145907663,
            11.917115695587759,
            11.40964461636565,
            12.815392648610313,
            11.673229254101276,
            10.61053651970745,
            12.506548190327935,
            11.304462307422886,
            10.886921180951674,
            12.095889485093474,
            12.692661429739385,
            11.386775551280653,
            10.728418539377822,
            11.936895159842095,
            12.717995102314037,
            10.969802874106238,
            13.420545742201176,
            11.85468192110211,
            11.918859709324536,
            13.149669557991398,
            12.685393899848075,
            10.347876945661575,
            9.316289204373824,
            12.581547729914535,
            11.764447589452988,
            12.644202118863694,
            11.832112231483734,
            10.441235061603203,
            12.729719510423308,
            9.477777607959725,
            10.163179060052556,
            11.608997936221535,
            11.268259230574026,
            11.163159542913276,
            10.101632204781014,
            12.76153127820102,
            12.055340161330117,
            11.935934966559186,
            12.451200012438312,
            12.284467067067206,
            12.782171794760187,
            12.960307128914414,
            9.95399500605983,
            13.130021664776669,
            11.520566788562215,
            10.972554314292411,
            13.53191346185937,
            12.039502370469926,
            10.942069621017652,
            12.664192622515644,
            11.730661394277833,
            11.918670307379347,
            11.514949066574864,
            12.418113202231623,
            13.887275413385506,
            12.846499067474367,
            10.889828283005027,
            12.914570094327916,
            11.568526641744768,
            11.971750786570597,
            13.078692439536418,
            11.956426484854195,
            13.252737094184225,
            13.093537281195054,
            12.527471744522867,
            11.235968954252515,
            12.074830167957375,
            12.045331979699332,
            11.230743306761044,
            11.90784409977911,
            13.052210385161311,
            13.004362005673075,
            11.52352268106905,
            10.314717921893896,
            12.433128529733455,
            10.745188554182882,
            11.016755636715029,
            12.216854693359823,
            12.329147021418828,
            10.806966067774699,
            12.135101396955724,
            12.94155572990243,
            13.300299363336553,
            10.39845771308564,
            11.887800415781035,
            11.591439703136587,
            13.271475042524667,
            12.988220598633099,
            14.039867262521904,
            11.906507762219913,
            11.13714030231066,
            12.902664889103924,
            12.386516256494849,
            11.822721745594304,
            10.9857637851215,
            14.132893457553365,
            11.912210479900578,
            11.481587147836265,
            10.04731473507118,
            12.428736927868275,
            11.965980266792483,
            11.121366060509414,
            8.668349517101323,
            12.504219807675257,
            12.132509111641538,
            11.732991461588078,
            11.946590884981756,
            12.556107616938169,
            12.480701517118197,
            12.594194066191113,
            10.946841939586896,
            11.48419869378604,
            11.120870867123783,
            10.971392430875488,
            11.588948579712492,
            10.706641521307748,
            11.07625934092972,
            12.953262542191794,
            10.572466600106118,
            11.658036814224136,
            13.592512657946296,
            11.371767361249,
            11.233414953540919,
            10.290350765056484,
            14.121783839255324,
            12.415541963333617,
            10.770248917443364,
            12.664390524735165,
            12.667808875387266,
            13.970181074130444,
            11.509253453525044,
            11.405770450141056,
            12.263717676034362,
            12.710701300459249,
            13.471577671948914,
            11.186808718643787,
            11.246812606011584,
            12.357638107209013,
            11.764325958658198,
            11.761883803681748,
            11.550300110865926,
            12.482669924970505,
            11.731364294077403,
            12.21407374586628,
            11.903756682535946,
            12.222483941893726,
            12.005916370756164,
            11.913745152838759,
            12.125401967944384,
            11.305551430414742,
            11.608997070875466,
            11.693058197072652,
            11.201569884684467,
            12.625432642053953,
            13.350631684459367,
            13.566159613087606,
            11.695736293481328,
            11.499409061002085,
            12.391422991118318,
            12.418808324753911
           ]
          },
          {
           "axis": {
            "matches": true
           },
           "label": "Time on Website",
           "values": [
            39.57766801952616,
            37.268958868297744,
            37.110597442120856,
            36.72128267790313,
            37.53665330059473,
            34.47687762925054,
            36.68377615286961,
            37.37335885854755,
            37.534497341555735,
            37.14516822352819,
            37.22580613162114,
            37.08792607098381,
            37.42021557502538,
            36.144666700041924,
            36.61995708279922,
            36.213763093698624,
            34.8940927514398,
            38.38513659413844,
            38.24411459434352,
            37.190503800397956,
            37.60779252420698,
            37.44102133556604,
            38.73400628989712,
            36.77260376125875,
            37.63575587790592,
            37.738524945579094,
            36.430649621049305,
            37.85177916943607,
            35.293087754360506,
            37.27781174207212,
            36.16364817104465,
            35.62244242064545,
            35.69417498569782,
            38.87804050675985,
            35.368626325363024,
            38.76864099802668,
            36.7657223578584,
            37.0443614002997,
            37.38831486719822,
            36.37147981406853,
            37.53429101112128,
            37.49669014561275,
            37.14286198458455,
            36.888086054199256,
            36.11243501077792,
            39.13109673366661,
            37.335445894325716,
            36.46200325853961,
            36.58272776540628,
            36.59445670006827,
            37.78026468722867,
            37.266878259420906,
            37.45340510152358,
            35.93344930095986,
            38.46832110587932,
            35.25224202243303,
            39.252930950406224,
            36.17312563197192,
            36.81401056250368,
            37.27122169250193,
            38.05260975257308,
            36.49399254673739,
            37.99702800956553,
            37.4087484767376,
            36.60077705432864,
            37.157624094065255,
            35.358444307206696,
            36.375066106372905,
            37.68040322813719,
            40.005181638101895,
            36.265000697022046,
            36.1571911511149,
            38.00658317947767,
            37.03153921676629,
            38.26035344266013,
            38.730861735419545,
            36.628834292811774,
            35.89243163440533,
            38.21257083414733,
            36.914633311440866,
            39.600376465861395,
            35.883994387012145,
            37.058912816506904,
            37.78114255999947,
            36.15725594420065,
            36.182539282355286,
            37.151920660971435,
            36.819095513184706,
            36.951616684246815,
            36.1050004999139,
            37.87521910003027,
            36.77312349371806,
            36.05024078202619,
            37.72438615760942,
            36.63385670229112,
            38.633625651583536,
            38.063413586838934,
            37.827394227862136,
            39.07440021133697,
            35.89035795567322,
            35.990488954758504,
            37.385317552778375,
            37.580190429177314,
            36.26203180012439,
            38.074452419704535,
            35.84582711383271,
            36.15246208860067,
            37.71250863884946,
            38.16643555663392,
            38.5030088492416,
            37.32533422381936,
            37.71598617762173,
            38.41504158153833,
            37.309688770879504,
            35.600820549110864,
            37.692300861282355,
            36.701052315547926,
            35.9990993016087,
            38.3099078951232,
            37.540520355122574,
            35.00748225744693,
            37.67321036564864,
            37.38794554263559,
            36.5496679900966,
            37.57016384471318,
            37.09326487011031,
            36.63465232853774,
            37.14600652898046,
            36.71413783923341,
            37.52642102779245,
            37.24503246996753,
            38.94882502753235,
            37.41413357473937,
            36.599112354294384,
            37.42454792226391,
            36.10091445210865,
            36.594361684891574,
            36.4944064828881,
            37.45837473122322,
            37.327282689879496,
            36.59937399114725,
            35.97765170714366,
            35.73055240228659,
            39.29404346247573,
            38.27470219571764,
            36.51838358912681,
            37.23200330765404,
            37.33866962178549,
            36.951555210501326,
            36.584437621758106,
            38.3072040068692,
            37.4311590983261,
            37.396497475332055,
            36.96638889642577,
            36.95964319393419,
            37.23880567308968,
            37.327848037843715,
            33.91384724758464,
            39.09462702670515,
            38.304471191707776,
            38.039109387074966,
            35.01280603355904,
            38.31136489758187,
            36.93615937845674,
            37.65861690944284,
            37.661106683992855,
            38.924087050629204,
            35.037856159447585,
            36.4077474507818,
            37.63300941664362,
            37.57883524203316,
            36.87831536782346,
            35.907298426852456,
            36.93988205032054,
            38.835670080853426,
            37.48091197626706,
            38.57651554990162,
            36.81385766052378,
            35.6742560274292,
            37.819155112276825,
            37.9596843202141,
            38.856041708111945,
            37.67924462448078,
            37.25305774145061,
            36.0869343253416,
            37.06462119956545,
            36.54550622682937,
            37.964390331775896,
            36.09424195284947,
            38.23260622710401,
            37.63529940965426,
            37.15315160406014,
            35.49396408005128,
            36.33780003116479,
            37.909138717559856,
            37.27863979370761,
            37.102031326859105,
            37.42676891745393,
            37.28139282998597,
            35.90772142967965,
            36.67822227440393,
            36.045459420486154,
            37.03951365322458,
            38.688709099424365,
            35.459862797144744,
            37.95201318688309,
            38.252978273334655,
            36.77601657686874,
            35.533863500263074,
            37.777365796776465,
            38.131712025636475,
            36.059645979864996,
            38.76429717446252,
            35.773116391246816,
            36.54466409871873,
            34.89198326749108,
            38.354959870264494,
            36.22355746230224,
            37.12234520816764,
            35.738707471214525,
            37.743619699549896,
            37.675020732908045,
            38.585854757332655,
            36.28872395038688,
            37.71777057005867,
            36.143908456341634,
            37.073616172195656,
            37.60565280041329,
            36.65127791701514,
            37.951489458573896,
            35.57484166706179,
            37.25803145871123,
            37.792237543130284,
            37.33281445580523,
            37.07679515601331,
            35.96889569049679,
            37.37011822360151,
            37.06708996741924,
            36.971195097457155,
            38.57360522634684,
            36.90937820695247,
            36.097220934711,
            39.08156474568163,
            36.94612578169275,
            35.96566746423624,
            37.68933697894965,
            36.323652468198226,
            37.52319665049046,
            36.947953692845566,
            36.844733815044506,
            37.19279353222785,
            34.84561239331277,
            36.13389429009422,
            36.199753473916246,
            36.67387835766538,
            39.22071295098572,
            36.36024719793432,
            36.63610411908917,
            38.99332245115573,
            37.37276214632111,
            37.3741835048976,
            36.65520808395947,
            36.85481082475086,
            38.238940853091385,
            36.52738830431376,
            37.341266161010715,
            37.97982686004657,
            36.853882459920776,
            36.8227532265912,
            37.29204470528371,
            38.655094538522064,
            36.22604169397467,
            36.768603091480045,
            36.57513377612486,
            35.669935165958194,
            37.74560774187829,
            36.876313233417314,
            36.897294609068695,
            37.744699695149066,
            37.02687697079434,
            37.55088041321525,
            38.4194685327455,
            37.78903634703417,
            35.675727630820134,
            38.71707629773135,
            36.62077385548951,
            35.7218273299056,
            39.06886445133981,
            35.74277912557426,
            38.55103028983871,
            37.26387556144864,
            37.03479128933126,
            35.94639914639546,
            34.81063145023747,
            37.24032955207884,
            36.19083323650043,
            37.0616887661275,
            38.61733445368848,
            35.62658733096311,
            35.97656497174036,
            36.98591347608606,
            38.06692960186935,
            37.80697766984659,
            36.92504303887864,
            36.57503097579012,
            36.33952101023726,
            36.25781911850192,
            37.36839124072731,
            36.5170857636486,
            35.46240008104617,
            36.54860515461888,
            36.54759627699104,
            36.315763151803424,
            35.622530591605994,
            37.87095205416159,
            37.53453024067718,
            37.27757337619507,
            36.60950715426321,
            36.90022076162611,
            37.19419104646396,
            38.296110372778266,
            37.333107418297075,
            36.14579171248221,
            37.646291787430776,
            37.22939451627661,
            36.31272657154038,
            38.442766686805065,
            37.38718052656558,
            38.04031366664072,
            35.92159518889928,
            37.08884657968332,
            37.1088163801084,
            37.935189045959156,
            35.86244707788159,
            36.595867945874545,
            39.24880390433504,
            38.269060691470244,
            37.4289973693919,
            38.0706642585136,
            37.33224074655335,
            36.773861369930785,
            37.76668677332467,
            35.77778217066089,
            37.95780983454751,
            37.84065507750671,
            37.977388737979744,
            35.82346666642285,
            37.83397172859896,
            34.897827688311345,
            36.37750903434099,
            37.33359061333867,
            38.19748324839899,
            36.88119240747175,
            35.90025278215821,
            35.12882235312117,
            35.9745781075859,
            37.763690402803434,
            37.49189221040693,
            35.716269159517005,
            37.65040020345744,
            36.04898625036686,
            39.045155696388115,
            36.91495154541398,
            35.444264696393994,
            37.922703809566,
            38.00182746752369,
            36.841491638054855,
            35.93896250240334,
            36.23210980258421,
            37.90601452014432,
            37.763041081545246,
            38.11045690682496,
            36.9569654250941,
            37.08831936433477,
            38.04345265084128,
            36.90818962373682,
            37.68546548721554,
            35.78392374450292,
            36.66579136924871,
            38.29572526401705,
            35.550772266806135,
            37.951946317735135,
            37.34573893439929,
            35.42933438847124,
            36.18913179541947,
            34.574027587189626,
            38.95246252162796,
            34.487184747742425,
            36.170494202480995,
            37.02715036476953,
            36.882149081506796,
            37.31770494919685,
            37.128039498322295,
            36.155336204959546,
            38.381955972136154,
            37.86921693600857,
            35.56543623713973,
            36.04620351842453,
            38.918748541019504,
            37.19936752783635,
            37.32981862521235,
            36.51734612004179,
            37.30596141998359,
            38.31564796064117,
            36.68836654250485,
            37.05261630809583,
            35.569170317446186,
            38.50588332918249,
            36.99529016635977,
            35.189122444377716,
            38.775665296116884,
            36.98504141740091,
            35.9380452301724,
            36.72902940108785,
            37.62690680204789,
            38.79123468689964,
            37.6373109611636,
            36.95395970110429,
            37.07437106706514,
            36.01231723045213,
            37.14209368933963,
            36.72527682557128,
            36.393683855020775,
            36.68339299807869,
            37.86144725932397,
            36.45689841052433,
            37.23984661097634,
            39.67259095594186,
            37.022268985912326,
            38.42286529341121,
            38.40137368953426,
            36.61119877576035,
            35.63211221551042,
            36.308545294390356,
            36.35250276938114,
            37.0234792364057,
            36.08964365766702,
            39.24096484164356,
            37.181447310649894,
            37.305361879286025,
            36.831535850846905,
            36.97937237345656,
            35.90675636579306,
            37.645838788014025,
            35.4567981489283,
            35.63395394740078,
            36.486325072393406,
            37.805509432449185,
            37.680287608367976,
            37.683875373647005,
            37.64780805527063,
            36.83936583281821,
            36.80837605948796,
            37.72236711094261,
            36.32214091690131,
            35.76615350038372,
            34.77975050203264,
            37.03427958207978,
            36.86218334634355,
            37.425278680067905,
            36.838656786348494,
            35.26149811626243,
            37.211152581351115,
            36.929761561703394,
            38.406329010114156,
            37.67232248424959,
            34.64980004740713,
            36.36684324701071,
            37.487049248551685,
            36.673952738564225,
            36.599289087393494,
            36.378271013194265,
            38.86023443032664,
            36.166463391921475,
            37.071643198252396,
            36.29889307823573,
            38.68258378408295,
            36.16604163340145,
            36.875025808917755,
            38.12651979793058,
            35.76932963050029,
            35.536024530304154,
            36.07455114016891,
            37.198427822725975,
            36.874543604679936,
            36.35523488364423,
            36.53409567089256,
            36.05864760322049,
            38.18776368086846,
            37.133126759376324,
            37.684877275306064,
            36.81293412550145,
            37.83544772741218,
            35.53914242750509,
            37.96597162275135,
            36.4179847963968,
            37.1902677104526,
            38.33257633196044,
            36.840085729767004,
            35.771016191612965
           ]
          },
          {
           "axis": {
            "matches": true
           },
           "label": "Length of Membership",
           "values": [
            4.0826206329529615,
            2.66403418213262,
            4.104543202376424,
            3.120178782748092,
            4.446308318351434,
            5.493507201364199,
            4.685017246570912,
            4.4342734348999375,
            3.2734335777477144,
            3.202806071553459,
            2.4826077705105956,
            3.71320920294043,
            4.046423164299585,
            3.9185418391589986,
            2.494543646659249,
            3.3578468423262944,
            3.1361327164897803,
            2.420806160901484,
            1.516575580831944,
            4.064548550437977,
            4.599937357614995,
            1.559151939957077,
            2.2451477874052825,
            3.9193023085531835,
            5.7051539706010255,
            2.7217359920452187,
            4.6481993164286015,
            2.9963645262685388,
            3.9234887455274365,
            4.742577519573317,
            3.0623681453116887,
            3.471413452477678,
            4.343062915388998,
            2.8200972339734696,
            4.1245852967146535,
            3.6492861577147018,
            1.8473704233395083,
            3.4523885826307272,
            4.650491269094463,
            4.22243622534277,
            4.671275460906252,
            4.646119976606155,
            4.214495086037866,
            4.643258549800133,
            2.2586863869468434,
            3.663105491283853,
            3.8768751769237673,
            4.113226122724209,
            3.2025311992107337,
            3.1983992716849063,
            5.97676812602,
            2.9526689579217362,
            2.0948917061051766,
            3.855471684564181,
            2.8745969103039517,
            3.3920504890738385,
            2.995761182613056,
            3.315224753915404,
            3.4719191365417483,
            3.9705556280753487,
            4.639320331857263,
            5.0812100924911086,
            4.8026306305233755,
            3.4146884225048972,
            3.4622988474603718,
            5.377593583586979,
            4.0017863457980845,
            3.4395905595500764,
            2.7795207192736093,
            3.5526497674265176,
            2.6022871120328714,
            4.694322274442824,
            3.4015223445155094,
            3.8515788003584657,
            3.2581128828882795,
            3.1205689148169737,
            2.8379431640697987,
            4.470282584120024,
            4.442054329011167,
            3.164943995285113,
            3.7517345520890513,
            3.159754443950926,
            4.130562809236324,
            1.9140899242311,
            4.396651901097084,
            5.113319474870623,
            2.669941624279581,
            3.3664637433729325,
            4.571213023779052,
            3.917451119136939,
            2.476139050596412,
            4.125584363255396,
            3.9972553776226674,
            1.3626740800013843,
            4.193324635532072,
            3.871003400176416,
            4.081802694781509,
            4.252006105620936,
            3.911708668370663,
            3.021671821710012,
            3.1846186616208865,
            2.877224878259828,
            2.5869679851624765,
            2.96964022663276,
            3.4288599039280125,
            2.926940235492512,
            3.7818230393432963,
            3.004742535925674,
            3.854473855602962,
            3.318822278930893,
            3.3618146243831437,
            3.722561172893833,
            3.5435470501829984,
            2.789461516374708,
            5.4859767341605234,
            2.5941897205777797,
            2.75342416875812,
            5.004820577490747,
            3.873337568743252,
            3.79872531905254,
            3.2927976625756474,
            4.716104987209577,
            4.018726609737513,
            3.637701279515837,
            3.834169666632599,
            4.5319866066666314,
            4.106055151602658,
            3.2182653850978555,
            3.2836634554040165,
            2.924020724598205,
            3.9052503089821298,
            4.9203184061183185,
            2.473596120847858,
            4.1312766483776535,
            1.7677307075942403,
            2.72410820200549,
            3.897115859957253,
            2.491671541288354,
            3.863425442205034,
            3.578633900393988,
            3.9588922643660966,
            3.251741770306888,
            3.914384667246393,
            1.4435150746515455,
            2.9100379165410684,
            3.3455709758422434,
            3.0895277822700096,
            4.514122441132637,
            1.8258846690261428,
            3.993656512525085,
            2.6521583048512407,
            6.401228837806772,
            5.3912751250206306,
            6.076653638440144,
            3.8648607392342784,
            2.941410754428091,
            5.084861308602488,
            6.922689335035808,
            3.6043985602569495,
            3.7849321101304056,
            3.30918232804298,
            0.9686221157417688,
            3.7685619627098967,
            3.585160635161344,
            4.520353377496559,
            3.6758488000184415,
            2.873007508505152,
            4.055775961742958,
            3.015175298743708,
            4.717102512825834,
            2.9263964487266882,
            2.361086946869883,
            4.9687426737281415,
            0.8015157200042076,
            3.669225611315444,
            1.7157771665531147,
            4.773503047345896,
            4.0878372729217025,
            4.131755039569861,
            3.4427992020016864,
            4.724027439824315,
            3.2309738432875563,
            2.972271382079821,
            3.1823297317868184,
            4.8063496187852826,
            3.6203649883552003,
            3.2613247447870934,
            3.597459968849926,
            4.789201624179895,
            3.3164647447029107,
            4.632460945972205,
            3.3084430006746035,
            4.015986640445782,
            4.369366793790984,
            2.56663984381683,
            3.5190324339539223,
            1.5038544212252951,
            5.039955263662929,
            4.47871260846301,
            3.3616129845381932,
            1.9207154781756468,
            4.330714461860564,
            3.811248170807232,
            3.0887639575315755,
            4.541695256706066,
            5.066696864020984,
            3.1074686827074625,
            4.74698970293514,
            3.091826869545788,
            3.1956257763719886,
            3.8502796390964265,
            3.974522480483529,
            3.843848921495288,
            2.9090084604850786,
            1.1390935384245742,
            2.6852848361090778,
            3.1089114491812744,
            4.852842407156434,
            2.30755242118396,
            4.83552866742221,
            3.6785893989539975,
            5.254708925941115,
            3.8928914802112553,
            4.3894552264165165,
            4.003325039023282,
            0.7895199078816915,
            4.403369830866465,
            2.6485967702033166,
            2.367848224385221,
            3.0507129732180167,
            3.641497161540088,
            3.397363092819078,
            4.297686524285517,
            3.8033649990651752,
            2.6334199887174443,
            3.634093727357596,
            3.467014066009709,
            1.4943108951995074,
            2.267251114447051,
            5.023934200606659,
            2.471750669720034,
            4.297737481971208,
            2.4369588757864635,
            3.6569839266881434,
            5.000243360514445,
            2.412830960970925,
            5.314354141170212,
            4.0777750980104255,
            3.2750706813095327,
            3.634996006306897,
            3.9824715131070567,
            3.2877018240744085,
            2.3133498845806395,
            3.557813698186695,
            3.3502792875449083,
            2.9070949348220267,
            3.7927119551515887,
            4.029453828152191,
            4.9784757934702615,
            2.6995620549722683,
            3.9306153266132897,
            3.4562338235263015,
            2.1820169698233887,
            2.7095266269292764,
            4.594116864603191,
            4.25698328967803,
            3.784273087078304,
            1.6234196094562199,
            3.4145062403052493,
            3.6060868889081727,
            3.275733705185027,
            5.007271986589903,
            3.3712581132239197,
            5.453969474611709,
            3.7558693892629655,
            4.664258497238649,
            3.8066709485629935,
            5.049927474652407,
            2.871947536151015,
            3.2367328142505314,
            3.0863372723173255,
            4.559699083258959,
            3.0102097779609496,
            1.8092295917763104,
            3.594295099901167,
            3.0491957437894315,
            3.6343402240734415,
            1.4823596439649784,
            2.921350140816143,
            1.8100798764120296,
            3.3731046739911137,
            2.2147975193939367,
            5.4544632775645265,
            3.2018017221749915,
            4.729484541572504,
            3.205529764506833,
            3.802511438790271,
            4.116340467131812,
            5.462500764129898,
            1.4816166268553612,
            3.771420131891554,
            2.898299577888636,
            3.5690465158585187,
            1.0845853030221226,
            3.0234744460455456,
            5.56638489205681,
            2.3951681299791368,
            3.5048334855203,
            5.226687712532106,
            1.8382107022501144,
            3.3634113937857366,
            2.957448756503683,
            2.0838141920346707,
            3.680847338174777,
            4.693732057983858,
            4.008352234634593,
            2.5320440615078934,
            2.8709869096996963,
            3.515688256202335,
            4.069916618589859,
            1.2004838567566694,
            3.22945090446699,
            4.086566338485993,
            4.019470351595002,
            4.205903889533483,
            2.0181946292873114,
            4.2438128167261855,
            4.626075291951958,
            3.00295702283384,
            1.8235951829918033,
            4.078308001651641,
            3.6899166154475918,
            2.1901321853800533,
            3.2067566975868704,
            1.9770071278430592,
            3.3492453825271813,
            3.5328615795564757,
            2.9747368150832405,
            2.6181653103960847,
            2.8040136926903942,
            2.9644978762354017,
            4.3508878437244665,
            3.8724320418689104,
            4.615426306527649,
            2.727209453758874,
            3.537123879902206,
            3.12650948966,
            5.137816745950984,
            3.1286388557446334,
            3.1789524050534483,
            3.8273759151075666,
            4.808320372869162,
            4.048510087289211,
            4.5433324132930855,
            3.4810621331251683,
            2.627624971434411,
            4.794312263402833,
            2.7618619263014166,
            2.1596760229888288,
            4.1956144126751305,
            2.139403004485981,
            3.43455972254092,
            2.8684281816397523,
            3.1370689754806818,
            3.5258064121952244,
            5.038107493844868,
            3.6122391519937,
            2.895075162804356,
            5.705940716620837,
            5.0470225513950995,
            4.778973636034999,
            2.96655888465992,
            2.6689197733345025,
            3.620354588804087,
            4.238296188412728,
            2.4793398232086954,
            3.506967573635258,
            3.3101503465768563,
            3.5358024678738285,
            1.1304769604319769,
            3.2287176862706497,
            3.3459223210048927,
            3.2156668270219866,
            3.7905521368804433,
            3.5612152714310823,
            2.931619534651152,
            3.0465406206892376,
            2.739200466766662,
            2.783963128204522,
            4.330407444211276,
            3.41620997759013,
            3.3363393820041853,
            4.662845304002564,
            3.222080766760957,
            3.772969024644708,
            3.4201495301648563,
            6.115198945760052,
            3.488029991222592,
            4.082855278762214,
            2.8296995751470893,
            5.4054064672295095,
            3.4517507098331026,
            2.9355772737404866,
            4.75036007144446,
            3.5314023030588984,
            3.904479379627935,
            2.399079789790412,
            2.8477090264744978,
            3.781703565104839,
            4.34977841863416,
            4.574287716419565,
            4.620416384895068,
            3.0130325004194374,
            4.791108744558266,
            4.334001444341368,
            1.4288238768282668,
            4.137000388171066,
            2.910530822492482,
            3.9824623189556383,
            3.7012292170202734,
            5.8405058759314255,
            4.560396067343642,
            4.4900020655598345,
            3.859817998874008,
            3.0466201888222324,
            4.652854446136779,
            4.0221029095289484,
            3.9694177591077393,
            3.7382251733253336,
            3.37668749953603,
            4.595522708601322,
            2.2239934582520533,
            4.288486770885737,
            2.11738254152726,
            0.9364975973183264,
            3.7620704427115657,
            4.00096358646012,
            3.5325171645393527,
            3.5350884276189447,
            4.158214652664192,
            3.549036057426973,
            4.129254688094536,
            2.2524459633808416,
            4.051382465375181,
            3.0720761414868827,
            4.331863026751083,
            3.937862643180167,
            0.2699010899842742,
            3.2794662600656097,
            2.5717778354776577,
            3.8260306175375134,
            2.4024538334142242,
            4.02781384191709,
            3.629339915268192,
            3.189609941879746,
            3.393975043434297,
            2.574948470025072,
            3.4720213800343784,
            4.198349060814376,
            2.086348146609663,
            3.6059339177330716,
            4.034386130357467,
            2.320550249888456,
            3.4910933370091515,
            5.320093863780987,
            3.130538462464844,
            4.985204970864012,
            1.726962043188511,
            3.7016222869142337,
            1.7851739448879638,
            3.0226757598626595,
            4.041244969129275,
            3.13952693504287,
            2.5628188108032326,
            2.3790764968915394,
            4.301996499354755,
            2.0947616690074846,
            4.089330841235956,
            3.5160510174718302,
            1.8208106181524435,
            4.1831436617261275,
            3.393902788069372,
            4.4263640805293125,
            2.9052383614465733,
            2.7827578284994163,
            3.4470177927906893,
            4.712233578509767,
            1.2281124234144234,
            4.019051426800218,
            1.7073897286757314,
            3.1630919310737573,
            3.4470928961368963,
            2.208813678005546,
            5.412357839551379,
            2.768851943263104,
            3.746572973103466,
            3.5765259152594644,
            4.9582644726186995,
            2.336484668112853,
            2.7351595670822757
           ]
          },
          {
           "axis": {
            "matches": true
           },
           "label": "Yearly Amount Spent",
           "values": [
            587.9510539684005,
            392.2049334443264,
            487.54750486747207,
            581.8523440352177,
            599.4060920457634,
            637.102447915074,
            521.5721747578274,
            549.9041461052942,
            570.2004089636196,
            427.1993848953282,
            492.6060127179966,
            522.3374046069357,
            408.6403510726275,
            573.4158673313865,
            470.45273330095534,
            461.7807421962299,
            457.84769594494855,
            407.7045475495442,
            452.3156754800354,
            605.061038804892,
            534.7057438060227,
            419.93877483917913,
            436.51560572936256,
            519.3409891307888,
            700.9170916173961,
            423.17999168059777,
            619.8956398616367,
            486.83893476506273,
            529.537665336851,
            554.7220838330761,
            497.5866713004408,
            447.6879065360587,
            588.7126055095755,
            491.07322367951963,
            507.4418323396168,
            521.8835731664783,
            347.77692663187264,
            490.73863214395465,
            478.1703340540876,
            537.8461952695957,
            532.7517875818364,
            501.87443028426947,
            591.1971781805905,
            547.2443434159983,
            448.22982918655,
            549.860590464497,
            593.9150029682891,
            563.6728733601083,
            479.73194908594513,
            416.35835357990084,
            725.5848140556807,
            442.667251738628,
            384.62657156940537,
            451.4574468676027,
            522.40414125956,
            483.67330801904563,
            520.8987944502368,
            453.16950235469744,
            496.650708068581,
            547.3651405940458,
            616.8515229667128,
            507.21256900067846,
            613.5993233689068,
            483.15972078451705,
            540.2634004105403,
            765.5184619388373,
            553.6015346844503,
            469.3108614953106,
            408.6201878298378,
            451.57568515949305,
            444.96655165329264,
            595.8228366992038,
            418.1500810968496,
            534.7771880994133,
            578.2416050583772,
            478.7193568742153,
            444.2859074976437,
            544.7798637193824,
            488.78606109390563,
            475.759067788328,
            489.8124879964614,
            462.8976361529081,
            596.4301726172282,
            338.31986264152215,
            533.5149352552407,
            536.7718993628412,
            487.37930601702914,
            473.7289665129948,
            547.1259317471988,
            505.1133435398578,
            449.0703194428044,
            611.0000251040717,
            515.8288148548279,
            439.07476674164496,
            514.0889577465721,
            543.340166256701,
            521.1429518103512,
            614.7153338263417,
            507.39006178986654,
            495.2994425473087,
            518.0645579840107,
            390.1032729724755,
            420.7376732446372,
            492.1050523891852,
            410.0696110599829,
            497.51368332936767,
            494.55186108657256,
            378.3309069068038,
            570.451725912857,
            549.0082269346927,
            459.285123462352,
            492.94505306595823,
            424.7626355099111,
            422.4267758765091,
            642.1015787311585,
            413.3717831104521,
            479.23109291159307,
            593.0772413447513,
            506.5473070543517,
            571.3074948754644,
            576.311177371677,
            576.8025473995871,
            514.239520718957,
            495.1759504494754,
            514.3365582674006,
            541.2265839893283,
            516.8315566841785,
            468.44573722740637,
            548.2803201983364,
            431.6177337614297,
            552.9403454501056,
            573.3062222574563,
            452.6272549950831,
            542.7115581025776,
            407.8040306356823,
            482.3535703213532,
            529.2300901235094,
            433.04876909582663,
            476.1914133494556,
            439.997879939927,
            448.9332932076744,
            472.9922466667984,
            463.9235129903258,
            350.05820016384524,
            460.06127739124327,
            505.77114032295646,
            463.484995404266,
            479.73193764530447,
            424.18549428888633,
            465.8893127108669,
            426.7752159856604,
            684.1634310159512,
            555.8925953881737,
            657.0199239376519,
            595.8038188761143,
            503.9783790525795,
            586.1558701804727,
            744.2218671047146,
            512.8253581285203,
            528.2238093680072,
            468.9135013219844,
            357.59143941508614,
            536.4231045259343,
            490.2065999848547,
            550.0475805761635,
            513.4505711860965,
            497.8119300055205,
            578.9862585804897,
            506.5363931400864,
            501.74923330839226,
            421.9667941858674,
            439.8912804768137,
            666.125591725772,
            298.76200786180766,
            465.17662330529686,
            373.88572369695015,
            532.7174856761749,
            554.9007830202702,
            537.7731625414566,
            501.100245232053,
            517.1651355939779,
            557.5292736134538,
            493.71919297817595,
            452.12262508578493,
            577.2734549822936,
            485.9231305248517,
            425.74509203105276,
            537.2150526997326,
            524.6379646141048,
            478.8853913201482,
            612.3852298963608,
            476.76672415476344,
            505.11963752820367,
            545.9454921414049,
            434.0216997527185,
            424.67528101321335,
            352.5501081630004,
            662.9610878058954,
            560.5601606242603,
            467.5019004269896,
            504.87043239337237,
            590.56271964715,
            443.9656268098819,
            392.4973991890214,
            568.7175759305222,
            712.3963268096637,
            413.29599918102974,
            562.0820453929382,
            412.012931298847,
            468.6684655991273,
            496.55408163560713,
            548.5185292758069,
            536.1308968550213,
            558.4272571753238,
            357.86371863839173,
            529.0566631985306,
            387.3570727364218,
            528.9336185650203,
            420.91615953269286,
            496.93344625553186,
            519.372976801355,
            591.4377355684502,
            502.40978530290533,
            604.3348400688553,
            555.0683940545761,
            256.67058229005585,
            547.1109823629461,
            461.9208768928978,
            458.3769106506301,
            436.2834981467514,
            532.9352188376637,
            512.5525343564016,
            630.4227632299235,
            463.74598112062944,
            493.18021624931,
            501.2091726816533,
            501.9282648732441,
            376.3369007569242,
            421.3266312569514,
            538.774933478023,
            398.16346853365195,
            571.4710341154247,
            451.62861054019965,
            490.6004425003995,
            591.7810894256675,
            409.0704720533178,
            563.4460356732392,
            647.6194557251927,
            448.34042501104767,
            518.7864830920807,
            523.6339351357243,
            393.8573709860865,
            426.154547713103,
            503.3878872879605,
            482.6024673294826,
            524.7976275698038,
            574.6548433659394,
            574.7472196620896,
            660.4251842914138,
            375.39845541024323,
            640.1877400085723,
            514.0098178487357,
            376.49684071853693,
            484.51980911055125,
            614.7296376283243,
            567.4750105270774,
            554.0030934297989,
            399.98387159812256,
            479.17285149109694,
            585.9318442972224,
            540.9957391083377,
            628.0478039330168,
            582.4919237338106,
            640.7861663983061,
            446.41867337013565,
            570.6300980875259,
            423.3083340974698,
            616.6602860166828,
            530.3624688854229,
            442.3631173838644,
            511.9798599920658,
            560.4437921717631,
            475.2634237275485,
            374.2696745439231,
            463.5914180279406,
            471.602884392892,
            626.018672655394,
            432.47206125141577,
            356.6155678900057,
            467.4278485003528,
            503.2173931191066,
            378.47356644790113,
            584.2183134866807,
            451.7278633175868,
            557.6341089957289,
            432.7207178399336,
            506.42385996980016,
            510.1598172791045,
            587.5747994806404,
            282.4712457199145,
            473.94985742281614,
            489.9080530975354,
            541.9722037582585,
            266.086340948469,
            494.6871558102853,
            689.7876041747194,
            387.5347163057077,
            441.89663151788625,
            604.8413188212228,
            302.18954780965197,
            479.61481167314247,
            506.132342437705,
            319.9288698031936,
            528.3092250312227,
            610.1280331303979,
            584.1058850493532,
            466.4211988217437,
            404.82452887268687,
            564.7909690079206,
            596.516697973153,
            368.6547849470645,
            542.4124767293989,
            478.2621263968358,
            473.360495571661,
            559.1990479544187,
            447.1876443054185,
            505.2300682820706,
            557.2526867470547,
            422.36873660682653,
            445.06218550892487,
            442.0644137580657,
            533.0400601788124,
            424.2028270990325,
            498.635598489176,
            330.5944460341002,
            443.4418600624623,
            478.60091594433294,
            440.0027475469415,
            357.7831107453153,
            476.139246872566,
            501.12249150365636,
            592.6884532021675,
            486.0834255029927,
            576.0252441251166,
            442.7228915742714,
            461.7909590614097,
            488.387525780145,
            593.1564014822196,
            392.81034498379717,
            443.19722102875534,
            535.4807751896418,
            533.3965537868428,
            532.1274491097012,
            558.9481123879059,
            508.771906741518,
            403.7669020956173,
            640.5840618984408,
            461.6282783910862,
            382.41610786547517,
            561.874657668983,
            444.5761441337301,
            401.03313521910604,
            384.3260571375157,
            527.7829957560522,
            482.14499687576796,
            594.2744834186118,
            502.0925279023197,
            407.65717875932603,
            708.9351848669818,
            531.9615505451646,
            521.2407802357949,
            447.36902719933136,
            385.152337987975,
            430.5888825564849,
            418.602742095224,
            478.9514047578856,
            483.79652206149285,
            538.941974531203,
            486.1637990666317,
            385.0950070687634,
            527.7837897574573,
            547.1907493518986,
            410.6029439492151,
            583.9778019715427,
            474.53232943988985,
            414.9350606518193,
            550.8133677324173,
            458.78113168424994,
            407.54216801343483,
            581.3089328794999,
            546.5566668627299,
            503.1750851912004,
            549.1315732872171,
            482.83098586170166,
            557.6082620533542,
            484.87696493512857,
            669.9871405017029,
            547.7099885778624,
            537.8252822957112,
            408.2169017707518,
            663.0748176067602,
            506.37586675019753,
            528.4193296952955,
            632.1235881419657,
            488.2702979651482,
            508.7357409506604,
            411.1869635742789,
            409.0945261923378,
            467.8009243667916,
            512.1658663881581,
            608.2718166151668,
            589.0264897562791,
            444.05382657277283,
            493.1812613907186,
            532.724805462904,
            275.9184206503857,
            511.03878605116114,
            438.41774201146853,
            475.7250679098812,
            483.54319386538816,
            663.8036932755083,
            544.4092721605869,
            630.1567281670505,
            461.11224843060927,
            491.9115050963458,
            574.4156896079883,
            530.7667186547619,
            581.7987976770314,
            556.2981411740467,
            502.132789227254,
            556.1863688687886,
            475.07162989966173,
            486.9470538397658,
            434.1442020262987,
            304.1355915788555,
            571.2160048349454,
            583.0796356620574,
            445.74984123965226,
            392.99225591403086,
            565.9943634015267,
            499.1401524490538,
            510.5394216996283,
            308.52774655803336,
            561.5165319790891,
            423.47053317382387,
            513.1531118530668,
            529.1945188649573,
            314.4385182951061,
            478.5842860083426,
            444.5821649786528,
            475.0154070877503,
            436.7205558562188,
            521.1953105318003,
            478.18305971187965,
            432.48116855701767,
            438.30370784642975,
            388.9405487921943,
            534.7714849461672,
            537.9157529213054,
            407.8763782204976,
            618.8459704239658,
            502.77107456549606,
            397.420584096457,
            392.2852442462675,
            689.2356997616951,
            543.1326262891694,
            577.7360248512277,
            436.5807403475482,
            553.9946735912697,
            427.3565308022928,
            424.7287739291025,
            541.0498309594357,
            469.38314617236114,
            444.54554965110816,
            492.55683370047706,
            535.3216100850124,
            408.9583359406166,
            487.5554580579016,
            487.6462317438417,
            402.16712222372564,
            551.0230017027826,
            497.3895577588434,
            494.6386097568927,
            479.2474167840931,
            462.65651893471335,
            515.5024796636585,
            576.4776071703129,
            357.85798360521926,
            597.7398788791847,
            327.37795258965207,
            510.4013884525048,
            510.50147847479735,
            403.8195198321978,
            627.603318713015,
            510.661792219672,
            573.8474377162278,
            529.0490041294304,
            551.6201454762477,
            456.46951006629797,
            497.7786422156802
           ]
          }
         ],
         "hovertemplate": "%{xaxis.title.text}=%{x}<br>%{yaxis.title.text}=%{y}<extra></extra>",
         "legendgroup": "",
         "marker": {
          "color": "#636efa",
          "symbol": "circle"
         },
         "name": "",
         "showlegend": false,
         "type": "splom"
        }
       ],
       "layout": {
        "dragmode": "select",
        "legend": {
         "tracegroupgap": 0
        },
        "margin": {
         "t": 60
        },
        "template": {
         "data": {
          "bar": [
           {
            "error_x": {
             "color": "#2a3f5f"
            },
            "error_y": {
             "color": "#2a3f5f"
            },
            "marker": {
             "line": {
              "color": "#E5ECF6",
              "width": 0.5
             }
            },
            "type": "bar"
           }
          ],
          "barpolar": [
           {
            "marker": {
             "line": {
              "color": "#E5ECF6",
              "width": 0.5
             }
            },
            "type": "barpolar"
           }
          ],
          "carpet": [
           {
            "aaxis": {
             "endlinecolor": "#2a3f5f",
             "gridcolor": "white",
             "linecolor": "white",
             "minorgridcolor": "white",
             "startlinecolor": "#2a3f5f"
            },
            "baxis": {
             "endlinecolor": "#2a3f5f",
             "gridcolor": "white",
             "linecolor": "white",
             "minorgridcolor": "white",
             "startlinecolor": "#2a3f5f"
            },
            "type": "carpet"
           }
          ],
          "choropleth": [
           {
            "colorbar": {
             "outlinewidth": 0,
             "ticks": ""
            },
            "type": "choropleth"
           }
          ],
          "contour": [
           {
            "colorbar": {
             "outlinewidth": 0,
             "ticks": ""
            },
            "colorscale": [
             [
              0,
              "#0d0887"
             ],
             [
              0.1111111111111111,
              "#46039f"
             ],
             [
              0.2222222222222222,
              "#7201a8"
             ],
             [
              0.3333333333333333,
              "#9c179e"
             ],
             [
              0.4444444444444444,
              "#bd3786"
             ],
             [
              0.5555555555555556,
              "#d8576b"
             ],
             [
              0.6666666666666666,
              "#ed7953"
             ],
             [
              0.7777777777777778,
              "#fb9f3a"
             ],
             [
              0.8888888888888888,
              "#fdca26"
             ],
             [
              1,
              "#f0f921"
             ]
            ],
            "type": "contour"
           }
          ],
          "contourcarpet": [
           {
            "colorbar": {
             "outlinewidth": 0,
             "ticks": ""
            },
            "type": "contourcarpet"
           }
          ],
          "heatmap": [
           {
            "colorbar": {
             "outlinewidth": 0,
             "ticks": ""
            },
            "colorscale": [
             [
              0,
              "#0d0887"
             ],
             [
              0.1111111111111111,
              "#46039f"
             ],
             [
              0.2222222222222222,
              "#7201a8"
             ],
             [
              0.3333333333333333,
              "#9c179e"
             ],
             [
              0.4444444444444444,
              "#bd3786"
             ],
             [
              0.5555555555555556,
              "#d8576b"
             ],
             [
              0.6666666666666666,
              "#ed7953"
             ],
             [
              0.7777777777777778,
              "#fb9f3a"
             ],
             [
              0.8888888888888888,
              "#fdca26"
             ],
             [
              1,
              "#f0f921"
             ]
            ],
            "type": "heatmap"
           }
          ],
          "heatmapgl": [
           {
            "colorbar": {
             "outlinewidth": 0,
             "ticks": ""
            },
            "colorscale": [
             [
              0,
              "#0d0887"
             ],
             [
              0.1111111111111111,
              "#46039f"
             ],
             [
              0.2222222222222222,
              "#7201a8"
             ],
             [
              0.3333333333333333,
              "#9c179e"
             ],
             [
              0.4444444444444444,
              "#bd3786"
             ],
             [
              0.5555555555555556,
              "#d8576b"
             ],
             [
              0.6666666666666666,
              "#ed7953"
             ],
             [
              0.7777777777777778,
              "#fb9f3a"
             ],
             [
              0.8888888888888888,
              "#fdca26"
             ],
             [
              1,
              "#f0f921"
             ]
            ],
            "type": "heatmapgl"
           }
          ],
          "histogram": [
           {
            "marker": {
             "colorbar": {
              "outlinewidth": 0,
              "ticks": ""
             }
            },
            "type": "histogram"
           }
          ],
          "histogram2d": [
           {
            "colorbar": {
             "outlinewidth": 0,
             "ticks": ""
            },
            "colorscale": [
             [
              0,
              "#0d0887"
             ],
             [
              0.1111111111111111,
              "#46039f"
             ],
             [
              0.2222222222222222,
              "#7201a8"
             ],
             [
              0.3333333333333333,
              "#9c179e"
             ],
             [
              0.4444444444444444,
              "#bd3786"
             ],
             [
              0.5555555555555556,
              "#d8576b"
             ],
             [
              0.6666666666666666,
              "#ed7953"
             ],
             [
              0.7777777777777778,
              "#fb9f3a"
             ],
             [
              0.8888888888888888,
              "#fdca26"
             ],
             [
              1,
              "#f0f921"
             ]
            ],
            "type": "histogram2d"
           }
          ],
          "histogram2dcontour": [
           {
            "colorbar": {
             "outlinewidth": 0,
             "ticks": ""
            },
            "colorscale": [
             [
              0,
              "#0d0887"
             ],
             [
              0.1111111111111111,
              "#46039f"
             ],
             [
              0.2222222222222222,
              "#7201a8"
             ],
             [
              0.3333333333333333,
              "#9c179e"
             ],
             [
              0.4444444444444444,
              "#bd3786"
             ],
             [
              0.5555555555555556,
              "#d8576b"
             ],
             [
              0.6666666666666666,
              "#ed7953"
             ],
             [
              0.7777777777777778,
              "#fb9f3a"
             ],
             [
              0.8888888888888888,
              "#fdca26"
             ],
             [
              1,
              "#f0f921"
             ]
            ],
            "type": "histogram2dcontour"
           }
          ],
          "mesh3d": [
           {
            "colorbar": {
             "outlinewidth": 0,
             "ticks": ""
            },
            "type": "mesh3d"
           }
          ],
          "parcoords": [
           {
            "line": {
             "colorbar": {
              "outlinewidth": 0,
              "ticks": ""
             }
            },
            "type": "parcoords"
           }
          ],
          "pie": [
           {
            "automargin": true,
            "type": "pie"
           }
          ],
          "scatter": [
           {
            "marker": {
             "colorbar": {
              "outlinewidth": 0,
              "ticks": ""
             }
            },
            "type": "scatter"
           }
          ],
          "scatter3d": [
           {
            "line": {
             "colorbar": {
              "outlinewidth": 0,
              "ticks": ""
             }
            },
            "marker": {
             "colorbar": {
              "outlinewidth": 0,
              "ticks": ""
             }
            },
            "type": "scatter3d"
           }
          ],
          "scattercarpet": [
           {
            "marker": {
             "colorbar": {
              "outlinewidth": 0,
              "ticks": ""
             }
            },
            "type": "scattercarpet"
           }
          ],
          "scattergeo": [
           {
            "marker": {
             "colorbar": {
              "outlinewidth": 0,
              "ticks": ""
             }
            },
            "type": "scattergeo"
           }
          ],
          "scattergl": [
           {
            "marker": {
             "colorbar": {
              "outlinewidth": 0,
              "ticks": ""
             }
            },
            "type": "scattergl"
           }
          ],
          "scattermapbox": [
           {
            "marker": {
             "colorbar": {
              "outlinewidth": 0,
              "ticks": ""
             }
            },
            "type": "scattermapbox"
           }
          ],
          "scatterpolar": [
           {
            "marker": {
             "colorbar": {
              "outlinewidth": 0,
              "ticks": ""
             }
            },
            "type": "scatterpolar"
           }
          ],
          "scatterpolargl": [
           {
            "marker": {
             "colorbar": {
              "outlinewidth": 0,
              "ticks": ""
             }
            },
            "type": "scatterpolargl"
           }
          ],
          "scatterternary": [
           {
            "marker": {
             "colorbar": {
              "outlinewidth": 0,
              "ticks": ""
             }
            },
            "type": "scatterternary"
           }
          ],
          "surface": [
           {
            "colorbar": {
             "outlinewidth": 0,
             "ticks": ""
            },
            "colorscale": [
             [
              0,
              "#0d0887"
             ],
             [
              0.1111111111111111,
              "#46039f"
             ],
             [
              0.2222222222222222,
              "#7201a8"
             ],
             [
              0.3333333333333333,
              "#9c179e"
             ],
             [
              0.4444444444444444,
              "#bd3786"
             ],
             [
              0.5555555555555556,
              "#d8576b"
             ],
             [
              0.6666666666666666,
              "#ed7953"
             ],
             [
              0.7777777777777778,
              "#fb9f3a"
             ],
             [
              0.8888888888888888,
              "#fdca26"
             ],
             [
              1,
              "#f0f921"
             ]
            ],
            "type": "surface"
           }
          ],
          "table": [
           {
            "cells": {
             "fill": {
              "color": "#EBF0F8"
             },
             "line": {
              "color": "white"
             }
            },
            "header": {
             "fill": {
              "color": "#C8D4E3"
             },
             "line": {
              "color": "white"
             }
            },
            "type": "table"
           }
          ]
         },
         "layout": {
          "annotationdefaults": {
           "arrowcolor": "#2a3f5f",
           "arrowhead": 0,
           "arrowwidth": 1
          },
          "coloraxis": {
           "colorbar": {
            "outlinewidth": 0,
            "ticks": ""
           }
          },
          "colorscale": {
           "diverging": [
            [
             0,
             "#8e0152"
            ],
            [
             0.1,
             "#c51b7d"
            ],
            [
             0.2,
             "#de77ae"
            ],
            [
             0.3,
             "#f1b6da"
            ],
            [
             0.4,
             "#fde0ef"
            ],
            [
             0.5,
             "#f7f7f7"
            ],
            [
             0.6,
             "#e6f5d0"
            ],
            [
             0.7,
             "#b8e186"
            ],
            [
             0.8,
             "#7fbc41"
            ],
            [
             0.9,
             "#4d9221"
            ],
            [
             1,
             "#276419"
            ]
           ],
           "sequential": [
            [
             0,
             "#0d0887"
            ],
            [
             0.1111111111111111,
             "#46039f"
            ],
            [
             0.2222222222222222,
             "#7201a8"
            ],
            [
             0.3333333333333333,
             "#9c179e"
            ],
            [
             0.4444444444444444,
             "#bd3786"
            ],
            [
             0.5555555555555556,
             "#d8576b"
            ],
            [
             0.6666666666666666,
             "#ed7953"
            ],
            [
             0.7777777777777778,
             "#fb9f3a"
            ],
            [
             0.8888888888888888,
             "#fdca26"
            ],
            [
             1,
             "#f0f921"
            ]
           ],
           "sequentialminus": [
            [
             0,
             "#0d0887"
            ],
            [
             0.1111111111111111,
             "#46039f"
            ],
            [
             0.2222222222222222,
             "#7201a8"
            ],
            [
             0.3333333333333333,
             "#9c179e"
            ],
            [
             0.4444444444444444,
             "#bd3786"
            ],
            [
             0.5555555555555556,
             "#d8576b"
            ],
            [
             0.6666666666666666,
             "#ed7953"
            ],
            [
             0.7777777777777778,
             "#fb9f3a"
            ],
            [
             0.8888888888888888,
             "#fdca26"
            ],
            [
             1,
             "#f0f921"
            ]
           ]
          },
          "colorway": [
           "#636efa",
           "#EF553B",
           "#00cc96",
           "#ab63fa",
           "#FFA15A",
           "#19d3f3",
           "#FF6692",
           "#B6E880",
           "#FF97FF",
           "#FECB52"
          ],
          "font": {
           "color": "#2a3f5f"
          },
          "geo": {
           "bgcolor": "white",
           "lakecolor": "white",
           "landcolor": "#E5ECF6",
           "showlakes": true,
           "showland": true,
           "subunitcolor": "white"
          },
          "hoverlabel": {
           "align": "left"
          },
          "hovermode": "closest",
          "mapbox": {
           "style": "light"
          },
          "paper_bgcolor": "white",
          "plot_bgcolor": "#E5ECF6",
          "polar": {
           "angularaxis": {
            "gridcolor": "white",
            "linecolor": "white",
            "ticks": ""
           },
           "bgcolor": "#E5ECF6",
           "radialaxis": {
            "gridcolor": "white",
            "linecolor": "white",
            "ticks": ""
           }
          },
          "scene": {
           "xaxis": {
            "backgroundcolor": "#E5ECF6",
            "gridcolor": "white",
            "gridwidth": 2,
            "linecolor": "white",
            "showbackground": true,
            "ticks": "",
            "zerolinecolor": "white"
           },
           "yaxis": {
            "backgroundcolor": "#E5ECF6",
            "gridcolor": "white",
            "gridwidth": 2,
            "linecolor": "white",
            "showbackground": true,
            "ticks": "",
            "zerolinecolor": "white"
           },
           "zaxis": {
            "backgroundcolor": "#E5ECF6",
            "gridcolor": "white",
            "gridwidth": 2,
            "linecolor": "white",
            "showbackground": true,
            "ticks": "",
            "zerolinecolor": "white"
           }
          },
          "shapedefaults": {
           "line": {
            "color": "#2a3f5f"
           }
          },
          "ternary": {
           "aaxis": {
            "gridcolor": "white",
            "linecolor": "white",
            "ticks": ""
           },
           "baxis": {
            "gridcolor": "white",
            "linecolor": "white",
            "ticks": ""
           },
           "bgcolor": "#E5ECF6",
           "caxis": {
            "gridcolor": "white",
            "linecolor": "white",
            "ticks": ""
           }
          },
          "title": {
           "x": 0.05
          },
          "xaxis": {
           "automargin": true,
           "gridcolor": "white",
           "linecolor": "white",
           "ticks": "",
           "title": {
            "standoff": 15
           },
           "zerolinecolor": "white",
           "zerolinewidth": 2
          },
          "yaxis": {
           "automargin": true,
           "gridcolor": "white",
           "linecolor": "white",
           "ticks": "",
           "title": {
            "standoff": 15
           },
           "zerolinecolor": "white",
           "zerolinewidth": 2
          }
         }
        }
       }
      },
      "text/html": [
       "<div>\n",
       "        \n",
       "        \n",
       "            <div id=\"2913053c-1b0b-42de-8bdf-288bde7486ff\" class=\"plotly-graph-div\" style=\"height:525px; width:100%;\"></div>\n",
       "            <script type=\"text/javascript\">\n",
       "                require([\"plotly\"], function(Plotly) {\n",
       "                    window.PLOTLYENV=window.PLOTLYENV || {};\n",
       "                    \n",
       "                if (document.getElementById(\"2913053c-1b0b-42de-8bdf-288bde7486ff\")) {\n",
       "                    Plotly.newPlot(\n",
       "                        '2913053c-1b0b-42de-8bdf-288bde7486ff',\n",
       "                        [{\"dimensions\": [{\"axis\": {\"matches\": true}, \"label\": \"Avg Session Length\", \"values\": [34.49726772511229, 31.92627202636016, 33.000914755642675, 34.30555662975554, 33.33067252364639, 33.871037879341976, 32.02159550138701, 32.739142938380326, 33.98777289568564, 31.93654861844892, 33.992572774953736, 33.87936082480498, 29.532428967057943, 33.19033404372265, 32.387975853153876, 30.737720372628182, 32.12538689728784, 32.338899323067196, 32.187812045932155, 32.61785606282345, 32.912785111159785, 33.503087256719716, 31.53160448257291, 32.903250973372074, 34.50755099852662, 33.02933195350689, 33.54123131310037, 32.33598963740772, 33.110205057717764, 33.10543794246846, 33.24190043446127, 33.46105629551836, 32.175501237949376, 32.72836000313375, 32.82030994541536, 33.61603789276768, 31.721652360509037, 32.8653271748764, 32.74936818112046, 32.567230480275114, 32.07054622092545, 33.01954798572344, 33.79203907501622, 32.89398062181101, 32.04448612744043, 34.55576799465749, 34.56455770619167, 32.726784597863976, 33.117218732994786, 31.661049822746076, 33.25633546983111, 33.90022441401576, 34.18777482695728, 33.762069239131385, 34.390163664343326, 33.92529660119954, 32.68822929602445, 34.3018702154015, 32.843930222655175, 33.75499472831927, 33.879784289702826, 33.07653560709715, 32.227299136367215, 32.789772618310714, 32.77260992960089, 34.374258045247466, 33.0787172146689, 32.80522040097184, 32.43075793005128, 32.179099972602344, 33.15417578832186, 34.33589583979252, 32.38625185558597, 32.808697592685014, 33.879744967981246, 32.04983939045731, 33.555207421432236, 33.14207932732039, 32.597182659813626, 33.167136876950536, 31.514737857801986, 34.59402114954151, 33.50136982210362, 32.40237101796123, 34.655485679579876, 31.80930031667919, 33.87777930012253, 34.44787143648077, 31.95630056052337, 32.605583641570504, 32.491446603122874, 33.616018552595435, 33.47160052695171, 33.710653059122684, 32.19772379742183, 32.46121244511541, 33.790387206952126, 34.18382052058911, 32.288666909138946, 33.826352009072124, 32.49839307472945, 31.88540629991176, 32.425697279750864, 33.43782956230187, 31.389585480664397, 33.46869994900622, 32.291756100263015, 32.063774620313694, 33.15569970295208, 33.35687434475742, 31.85307480174657, 32.01230076824544, 32.388451625505326, 32.65318145878372, 32.93133644189654, 33.23560650069385, 33.92579489547877, 33.05926409135838, 32.401731827354666, 33.88994100692418, 34.569381218693444, 33.70160519868888, 33.26833021768797, 31.35847719243701, 33.01479221522831, 31.57613197132227, 32.657268594778124, 34.709323296131586, 34.536659179877404, 32.771715009701, 33.70040045682241, 32.43977025334846, 34.31216699740784, 32.45517628513712, 33.540976791782235, 33.358398281424215, 32.68612925611517, 34.558294609144475, 33.5477479443078, 31.95490385663485, 31.066218161637593, 31.85125312860837, 32.609282635640405, 32.11511906601424, 33.924624809512075, 33.477190403003306, 32.116400120928155, 32.255901204449785, 32.69239221858063, 32.384732659005124, 34.3387293850918, 32.88710464561531, 32.510217994444325, 31.94539574834452, 36.13966248879052, 32.44952156114242, 32.294641549565036, 34.60331111938746, 33.5985203185533, 34.56868084571511, 32.83810016055479, 33.50370517913956, 33.30188161463884, 30.879484344127498, 33.15425475700075, 32.04780097886789, 33.63080076787103, 34.04663802802127, 33.644177000440536, 32.65462160732388, 33.42874704259606, 31.864832548098732, 34.48238804881123, 32.529768731474434, 33.432231396262715, 33.30857161628053, 32.33263706834172, 34.71345123397026, 32.63587799818993, 33.07570303157222, 32.23014911593311, 34.142863372870714, 32.4971984614607, 33.122399984316985, 33.088529366211525, 32.53379686092211, 32.48426048276214, 32.543459169597696, 32.28312306113335, 32.200798643965314, 34.71331650656199, 32.71251232693568, 33.69489765096749, 31.570200829320264, 33.459476848964336, 31.820998201672072, 32.73322416398153, 32.407148299996685, 33.506092281309364, 30.83643267477343, 34.87849495417028, 34.00721197222165, 31.525752416968214, 31.04722213948752, 34.59577669439264, 34.96760988717724, 32.29524762622046, 33.324240521849696, 32.903454333014224, 32.55949313011333, 31.76561882104241, 34.08164619679617, 33.304431285296005, 34.33075044367848, 32.07894757956938, 33.605798998912356, 32.74515048083576, 32.12236479579778, 32.53082944110282, 31.736635686050285, 34.11756669418932, 33.63662445812838, 34.33486453305802, 34.814983943728855, 34.642669758092204, 32.83694076702139, 32.299647163504964, 31.94801742116136, 32.72731919612472, 33.94624061993669, 32.35147815076609, 34.173752023676585, 32.97518182625784, 32.00475302036483, 34.19705969450868, 33.177204666060376, 32.69323953887129, 31.625360134830608, 31.260646869879523, 31.72076990028731, 32.92261075834941, 32.68624509039022, 34.05094675856064, 32.454552537551066, 31.283447476058157, 32.98002919845364, 31.909626827522736, 34.40240964824356, 32.95976431107423, 33.78015676329505, 32.6729435250038, 32.72852076313786, 33.40992258786484, 31.724202523845182, 32.71111929929533, 33.1366552476793, 34.37939438496412, 35.530904145898624, 33.24726795047748, 32.096108993845185, 35.039283064909725, 32.55052657442161, 32.58249357081853, 33.296981924626486, 33.108336148346, 33.902717794463925, 34.55528258670921, 33.73264839262621, 31.60051220030329, 34.318927438542204, 34.00648891839723, 33.54047906012372, 34.43642583784763, 33.55169913754013, 31.818616566769066, 32.36312129411639, 33.191570884444964, 32.19249882778649, 32.60790271932764, 32.26200310699493, 32.271848280874984, 33.79512493081247, 31.654809675692764, 33.07773079450243, 31.312349599444342, 32.87273861448019, 33.708153408093004, 33.908565031728365, 32.31290974594309, 34.39432664844985, 32.42330472721988, 33.539396346976595, 33.37401692609311, 33.794755944865194, 33.7709000976483, 31.309192640891823, 33.612563354981084, 33.39826012958678, 33.622591840455804, 30.4925366965402, 31.904857131013607, 33.0264203526517, 32.975192902963855, 30.81620064887634, 33.91401511732236, 33.30267220801569, 31.91207592920061, 32.40855895733437, 32.64461690576892, 34.10227850874102, 33.24850620315415, 34.72908016563062, 30.3931845423455, 33.3841105711181, 32.878474365657695, 34.50141785278397, 33.56647438959015, 32.8487928288471, 33.53186013061325, 33.41906734548329, 32.495418773654315, 33.67402747501462, 33.264632073163924, 32.76245596030955, 33.47947160188164, 33.785207205733194, 33.21718784289895, 31.128090049616628, 33.36951735608769, 32.837893053239185, 30.57436368417137, 32.27459383033916, 33.14423399987652, 33.4855197629536, 31.97648006146129, 32.13386240984833, 32.302553103111435, 31.82797905546526, 32.018074010632084, 32.997459002491695, 31.81642833419931, 34.46151473966461, 32.34279623166797, 32.30274837339047, 33.06644065628263, 33.89464038846548, 32.765664587506606, 33.76981237165136, 31.812482559724263, 32.00850451785513, 33.30433661798984, 32.189844729273545, 34.9356051056443, 33.55165060797954, 32.386968674631895, 33.34450868519732, 33.6727578867203, 34.00207092262163, 32.65539704223188, 32.054261851184755, 33.22877226969563, 32.07759004432913, 33.981005579787784, 34.17951756796679, 32.60273898042012, 32.03054971621298, 33.100357750772915, 32.99059904291544, 34.385820292995376, 34.357196268204405, 33.70511279750195, 32.404295045983574, 31.82934645592113, 31.36621216718769, 31.447446494127817, 33.58294683702328, 32.39742194430904, 35.03744996157605, 32.78494023263413, 33.9717220376126, 33.38599019075222, 33.556555671402755, 33.58737339024554, 34.18818406101828, 33.59396354804201, 33.236265721508744, 33.20891970058922, 33.63781167586591, 33.59048580327403, 34.195508030962635, 35.860236513353094, 33.48193057257537, 33.25823783380398, 32.319857972167306, 32.430838579082014, 31.44597248275779, 35.74266980593494, 34.012619460656374, 34.14039342796294, 32.37798965892753, 33.17233109074306, 33.24732220295966, 33.598913339294036, 33.08529799058909, 32.27844334791965, 33.441553044751224, 32.86530120924307, 31.526197898239808, 33.00084964015205, 32.08838063044821, 33.265444472845786, 32.992573196692234, 33.86318870719846, 32.59209322575472, 32.381034590963445, 31.51712180250623, 33.454301926040195, 32.21552741998912, 31.67391550327495, 33.71755461300513, 33.21547157476038, 31.574138022873235, 33.89457038870139, 33.12869268643142, 34.370327046164306, 34.08026009173408, 31.425226880854808, 33.62530726457669, 31.8627411090001, 33.29258730730077, 33.749227770813306, 34.14496898723948, 31.123974349911947, 34.278247879997245, 33.66661568345138, 32.259973265557015, 35.43316530057876, 31.967320947882403, 32.149060522105984, 33.91884417783405, 33.20061634140451, 32.53677489754807, 34.083663301629485, 33.025020138575876, 31.268104210750717, 32.21292383005795, 33.499506100675546, 32.904853667353976, 32.204654645678524, 32.67515450844823, 32.99838766242905, 33.9431185791017, 33.55210836340867, 33.67683086814267, 32.641946365588176, 33.42121218172261, 32.76707608122926, 33.11995442833815, 35.37187609232446, 33.9760825800378, 34.03416353106073, 32.770492158549345, 33.50381038174352, 31.87455169458537, 32.53323998265473, 34.85131416586477, 34.21146128149797, 33.45961931752967, 34.200539409318985, 31.16950679871159, 32.51819681399925, 34.523019620716326, 33.66599032199544, 31.60983957338964, 33.70088553901973, 33.81173340621725, 34.33667722314705, 31.061325156716126, 33.06976829928679, 34.60624245261783, 34.238241911920284, 32.04781463313985, 30.971675643887767, 33.606850823118876, 33.448125009346555, 33.369380938205474, 33.452295280190306, 32.904692444916265, 35.63085386109822, 32.2463499961189, 34.69559119111866, 34.343921908427575, 33.68093694960616, 32.060914398410056, 33.431097102487136, 33.23765998436727, 34.70252897286158, 32.64677668060689, 33.322501051305466, 33.71598091844986]}, {\"axis\": {\"matches\": true}, \"label\": \"Time on App\", \"values\": [12.65565114916675, 11.109460728682564, 11.330278057777512, 13.717513665142507, 12.795188551078114, 12.026925339755053, 11.366348309710526, 12.35195897300293, 13.386235275676436, 11.814128294972196, 13.338975447662113, 11.584782999535266, 10.961298400154098, 12.959226091609382, 13.148725692056516, 12.636606052000127, 11.733861690857394, 12.013194694014402, 14.7153875441565, 13.989592555825254, 11.365492025516154, 12.87798369625634, 13.378562784168984, 11.657575922065588, 12.893669504071738, 11.765812645482356, 12.783891784275019, 13.007819424388568, 11.982044994015613, 11.965020002997901, 12.305417813429447, 10.869163814130363, 13.387492105579696, 13.1045072428758, 11.634893252550464, 11.936386499892285, 11.75502370305383, 11.984417523634924, 9.954975969174418, 12.489013215743663, 11.733106220383403, 10.634561317920276, 12.507525374016035, 11.52987820576495, 13.414934735851688, 12.170525424959395, 13.146551432907062, 12.988510147185293, 11.864126358942508, 11.398064190096813, 13.85806246213124, 10.956790967791653, 10.320116255059194, 9.98451439654646, 12.645195140843521, 11.588655423353044, 13.761532847115614, 10.56829468563276, 11.832286222863624, 12.064156632199321, 12.495591602384836, 9.607314687519166, 13.728627177429864, 11.670065919118974, 13.276313008175375, 15.126994288792467, 12.695789749023144, 11.835476087614285, 11.306232344673575, 11.187538910878676, 11.887494133971662, 12.2289347111239, 10.674653472691904, 12.817113090284247, 13.5878060830337, 12.238057349986248, 11.55182116621942, 11.433379933334455, 10.889566863427978, 11.928842093866267, 12.595671305072534, 10.947258584185183, 13.898081993497069, 10.875559548189257, 10.338072695038539, 11.63466821794247, 12.517666287393075, 10.607723870859086, 12.8288933950187, 12.068816079691766, 12.530357373542886, 13.516284296962846, 11.662263431208274, 13.664747875183544, 11.83023109487895, 13.291143045352886, 11.942340869536073, 13.349912944366533, 12.020112091208748, 12.084091730811036, 13.410759184940549, 11.28193107410364, 11.448901535513794, 12.595420346380534, 10.994223919350974, 13.085505760060856, 12.190474287309025, 10.719149740628396, 12.931550271647987, 13.452128959435642, 12.149375491578276, 12.178331333996287, 11.010482132400076, 11.60253219348616, 12.732211588456625, 11.223368888365105, 12.01102187657459, 11.725910097840956, 12.089309572437351, 13.068638584182436, 12.85499036656409, 11.564022368065539, 11.113329897404322, 12.809883473378115, 11.761172325483107, 12.579894173618062, 11.957923064554107, 10.651793783474174, 12.75207661096469, 11.540832436151053, 11.924394923280015, 12.4241304114395, 11.810586764578169, 12.759168978762087, 11.85189083494272, 12.70368792886871, 12.21525242490249, 11.281445003567141, 10.735362917985057, 10.963131776054833, 11.735094549013706, 12.41896198100501, 10.537307537840883, 11.919242397939177, 11.911415556879856, 12.488067002053027, 12.380694979552985, 10.480506832694497, 12.296517680733736, 10.86160419912899, 10.716355140061573, 12.387184173554845, 10.984835888186163, 12.965761479512215, 12.050267234380506, 13.45772494051235, 12.443047890439868, 12.207298491050794, 11.586319529181235, 11.378087087773375, 12.364341604455195, 12.399436075147092, 12.542481050786341, 13.280432242922116, 11.795886676889108, 12.718039174525654, 12.039647840787234, 12.474455453922836, 13.160020040286033, 11.052323653306685, 10.636761083696546, 13.443405985146253, 13.28303286832567, 11.747731701242175, 10.859608533152716, 11.691686125826351, 11.548761439776756, 11.72400223179126, 12.178573080885847, 12.319845062066673, 11.084360836740514, 13.177774533773801, 12.832802836968114, 11.509047996817198, 11.85766344472502, 12.293365838346627, 10.93325227854703, 13.332839284456394, 10.902556227019767, 12.276981712741964, 12.038808239866547, 11.724473856834607, 11.202669899735568, 13.378063328893633, 11.388612618641035, 10.771074062599588, 11.818571762284998, 13.808798675105965, 11.659832840871447, 13.100109538542807, 13.067895684999526, 12.494322933269393, 11.340035931978807, 11.199660962300452, 11.332487778094174, 13.91949439608817, 11.031358340409188, 11.084584086421874, 10.542645423983108, 11.79779551488024, 12.442616548294636, 12.104542428062684, 12.37849022280867, 13.722453676229962, 12.725909323593955, 13.685118899623587, 10.012583366223023, 11.435533874300315, 12.354607081759855, 10.748533655415796, 11.59187166512224, 11.236506758754027, 11.109456333168433, 12.114944955194904, 11.866481205181707, 10.25654903128796, 12.168596472860555, 13.085356892368793, 13.013375627349653, 10.9839767277944, 13.105158522307253, 12.144748536704865, 13.90991551102909, 11.395209434440885, 13.033566182687187, 11.622777173031125, 12.600750401563928, 13.187910985159366, 13.266760352944493, 11.752343171850052, 11.56811634209842, 12.638572122192118, 11.388644575171455, 11.82298329832392, 12.725677367222989, 11.201159766003187, 11.347263611462731, 14.220979108167345, 11.546275759510358, 11.91763618310149, 12.276056984463208, 10.131712461927217, 12.026942222615626, 13.172287495263063, 12.326291385476885, 13.891313421778493, 12.930928541308225, 11.379257182400215, 14.069382336483994, 10.804890557641668, 14.426491050422625, 13.041244588162265, 11.739743796165989, 12.491058738018813, 12.892374513653696, 11.668866514553866, 11.777772039564965, 12.138793877121687, 12.222967446546054, 13.402331896928285, 12.956276605432244, 12.884124621344766, 13.325469096138633, 12.15858523387948, 11.226545663510619, 12.461135435006733, 9.846124908736233, 13.32541218598226, 13.677245841523792, 11.644969546399302, 13.485008988077054, 11.620996507575207, 13.014459152355206, 11.466984219092824, 11.684904192367506, 12.09396635537946, 14.325654943309248, 12.914846634589114, 9.8244017703894, 12.807751833234732, 13.058277927143259, 10.534553499461076, 11.143433077943628, 10.982805534662877, 11.153966054877387, 11.947175323941774, 11.47056500466582, 11.03785041365591, 11.167356897497287, 11.562936246652605, 12.227728279686652, 13.18681287300118, 13.394451788942055, 11.851398743073142, 12.266503838947587, 13.459222289832475, 11.792971821961505, 10.98574015235435, 12.637557159364276, 8.508152176032603, 11.656592033851751, 11.9668980767806, 11.80298577760313, 12.677401437121036, 13.032534975943193, 12.44761745405695, 12.235659245108506, 10.973162084317348, 13.665769794267847, 13.391120179234008, 12.96832561098067, 12.968893130527091, 10.732131340303663, 10.952353380458653, 12.60888879370027, 13.039511025284968, 10.999683661085923, 13.278956228597714, 10.62794922615627, 13.185181167368498, 11.351049011250833, 12.954811454937932, 11.73704063527238, 11.887345302061831, 10.757130926114415, 11.612650769570312, 11.979061483915341, 12.461147444665412, 10.079463451952432, 12.589240561061525, 14.2880145907663, 11.917115695587759, 11.40964461636565, 12.815392648610313, 11.673229254101276, 10.61053651970745, 12.506548190327935, 11.304462307422886, 10.886921180951674, 12.095889485093474, 12.692661429739385, 11.386775551280653, 10.728418539377822, 11.936895159842095, 12.717995102314037, 10.969802874106238, 13.420545742201176, 11.85468192110211, 11.918859709324536, 13.149669557991398, 12.685393899848075, 10.347876945661575, 9.316289204373824, 12.581547729914535, 11.764447589452988, 12.644202118863694, 11.832112231483734, 10.441235061603203, 12.729719510423308, 9.477777607959725, 10.163179060052556, 11.608997936221535, 11.268259230574026, 11.163159542913276, 10.101632204781014, 12.76153127820102, 12.055340161330117, 11.935934966559186, 12.451200012438312, 12.284467067067206, 12.782171794760187, 12.960307128914414, 9.95399500605983, 13.130021664776669, 11.520566788562215, 10.972554314292411, 13.53191346185937, 12.039502370469926, 10.942069621017652, 12.664192622515644, 11.730661394277833, 11.918670307379347, 11.514949066574864, 12.418113202231623, 13.887275413385506, 12.846499067474367, 10.889828283005027, 12.914570094327916, 11.568526641744768, 11.971750786570597, 13.078692439536418, 11.956426484854195, 13.252737094184225, 13.093537281195054, 12.527471744522867, 11.235968954252515, 12.074830167957375, 12.045331979699332, 11.230743306761044, 11.90784409977911, 13.052210385161311, 13.004362005673075, 11.52352268106905, 10.314717921893896, 12.433128529733455, 10.745188554182882, 11.016755636715029, 12.216854693359823, 12.329147021418828, 10.806966067774699, 12.135101396955724, 12.94155572990243, 13.300299363336553, 10.39845771308564, 11.887800415781035, 11.591439703136587, 13.271475042524667, 12.988220598633099, 14.039867262521904, 11.906507762219913, 11.13714030231066, 12.902664889103924, 12.386516256494849, 11.822721745594304, 10.9857637851215, 14.132893457553365, 11.912210479900578, 11.481587147836265, 10.04731473507118, 12.428736927868275, 11.965980266792483, 11.121366060509414, 8.668349517101323, 12.504219807675257, 12.132509111641538, 11.732991461588078, 11.946590884981756, 12.556107616938169, 12.480701517118197, 12.594194066191113, 10.946841939586896, 11.48419869378604, 11.120870867123783, 10.971392430875488, 11.588948579712492, 10.706641521307748, 11.07625934092972, 12.953262542191794, 10.572466600106118, 11.658036814224136, 13.592512657946296, 11.371767361249, 11.233414953540919, 10.290350765056484, 14.121783839255324, 12.415541963333617, 10.770248917443364, 12.664390524735165, 12.667808875387266, 13.970181074130444, 11.509253453525044, 11.405770450141056, 12.263717676034362, 12.710701300459249, 13.471577671948914, 11.186808718643787, 11.246812606011584, 12.357638107209013, 11.764325958658198, 11.761883803681748, 11.550300110865926, 12.482669924970505, 11.731364294077403, 12.21407374586628, 11.903756682535946, 12.222483941893726, 12.005916370756164, 11.913745152838759, 12.125401967944384, 11.305551430414742, 11.608997070875466, 11.693058197072652, 11.201569884684467, 12.625432642053953, 13.350631684459367, 13.566159613087606, 11.695736293481328, 11.499409061002085, 12.391422991118318, 12.418808324753911]}, {\"axis\": {\"matches\": true}, \"label\": \"Time on Website\", \"values\": [39.57766801952616, 37.268958868297744, 37.110597442120856, 36.72128267790313, 37.53665330059473, 34.47687762925054, 36.68377615286961, 37.37335885854755, 37.534497341555735, 37.14516822352819, 37.22580613162114, 37.08792607098381, 37.42021557502538, 36.144666700041924, 36.61995708279922, 36.213763093698624, 34.8940927514398, 38.38513659413844, 38.24411459434352, 37.190503800397956, 37.60779252420698, 37.44102133556604, 38.73400628989712, 36.77260376125875, 37.63575587790592, 37.738524945579094, 36.430649621049305, 37.85177916943607, 35.293087754360506, 37.27781174207212, 36.16364817104465, 35.62244242064545, 35.69417498569782, 38.87804050675985, 35.368626325363024, 38.76864099802668, 36.7657223578584, 37.0443614002997, 37.38831486719822, 36.37147981406853, 37.53429101112128, 37.49669014561275, 37.14286198458455, 36.888086054199256, 36.11243501077792, 39.13109673366661, 37.335445894325716, 36.46200325853961, 36.58272776540628, 36.59445670006827, 37.78026468722867, 37.266878259420906, 37.45340510152358, 35.93344930095986, 38.46832110587932, 35.25224202243303, 39.252930950406224, 36.17312563197192, 36.81401056250368, 37.27122169250193, 38.05260975257308, 36.49399254673739, 37.99702800956553, 37.4087484767376, 36.60077705432864, 37.157624094065255, 35.358444307206696, 36.375066106372905, 37.68040322813719, 40.005181638101895, 36.265000697022046, 36.1571911511149, 38.00658317947767, 37.03153921676629, 38.26035344266013, 38.730861735419545, 36.628834292811774, 35.89243163440533, 38.21257083414733, 36.914633311440866, 39.600376465861395, 35.883994387012145, 37.058912816506904, 37.78114255999947, 36.15725594420065, 36.182539282355286, 37.151920660971435, 36.819095513184706, 36.951616684246815, 36.1050004999139, 37.87521910003027, 36.77312349371806, 36.05024078202619, 37.72438615760942, 36.63385670229112, 38.633625651583536, 38.063413586838934, 37.827394227862136, 39.07440021133697, 35.89035795567322, 35.990488954758504, 37.385317552778375, 37.580190429177314, 36.26203180012439, 38.074452419704535, 35.84582711383271, 36.15246208860067, 37.71250863884946, 38.16643555663392, 38.5030088492416, 37.32533422381936, 37.71598617762173, 38.41504158153833, 37.309688770879504, 35.600820549110864, 37.692300861282355, 36.701052315547926, 35.9990993016087, 38.3099078951232, 37.540520355122574, 35.00748225744693, 37.67321036564864, 37.38794554263559, 36.5496679900966, 37.57016384471318, 37.09326487011031, 36.63465232853774, 37.14600652898046, 36.71413783923341, 37.52642102779245, 37.24503246996753, 38.94882502753235, 37.41413357473937, 36.599112354294384, 37.42454792226391, 36.10091445210865, 36.594361684891574, 36.4944064828881, 37.45837473122322, 37.327282689879496, 36.59937399114725, 35.97765170714366, 35.73055240228659, 39.29404346247573, 38.27470219571764, 36.51838358912681, 37.23200330765404, 37.33866962178549, 36.951555210501326, 36.584437621758106, 38.3072040068692, 37.4311590983261, 37.396497475332055, 36.96638889642577, 36.95964319393419, 37.23880567308968, 37.327848037843715, 33.91384724758464, 39.09462702670515, 38.304471191707776, 38.039109387074966, 35.01280603355904, 38.31136489758187, 36.93615937845674, 37.65861690944284, 37.661106683992855, 38.924087050629204, 35.037856159447585, 36.4077474507818, 37.63300941664362, 37.57883524203316, 36.87831536782346, 35.907298426852456, 36.93988205032054, 38.835670080853426, 37.48091197626706, 38.57651554990162, 36.81385766052378, 35.6742560274292, 37.819155112276825, 37.9596843202141, 38.856041708111945, 37.67924462448078, 37.25305774145061, 36.0869343253416, 37.06462119956545, 36.54550622682937, 37.964390331775896, 36.09424195284947, 38.23260622710401, 37.63529940965426, 37.15315160406014, 35.49396408005128, 36.33780003116479, 37.909138717559856, 37.27863979370761, 37.102031326859105, 37.42676891745393, 37.28139282998597, 35.90772142967965, 36.67822227440393, 36.045459420486154, 37.03951365322458, 38.688709099424365, 35.459862797144744, 37.95201318688309, 38.252978273334655, 36.77601657686874, 35.533863500263074, 37.777365796776465, 38.131712025636475, 36.059645979864996, 38.76429717446252, 35.773116391246816, 36.54466409871873, 34.89198326749108, 38.354959870264494, 36.22355746230224, 37.12234520816764, 35.738707471214525, 37.743619699549896, 37.675020732908045, 38.585854757332655, 36.28872395038688, 37.71777057005867, 36.143908456341634, 37.073616172195656, 37.60565280041329, 36.65127791701514, 37.951489458573896, 35.57484166706179, 37.25803145871123, 37.792237543130284, 37.33281445580523, 37.07679515601331, 35.96889569049679, 37.37011822360151, 37.06708996741924, 36.971195097457155, 38.57360522634684, 36.90937820695247, 36.097220934711, 39.08156474568163, 36.94612578169275, 35.96566746423624, 37.68933697894965, 36.323652468198226, 37.52319665049046, 36.947953692845566, 36.844733815044506, 37.19279353222785, 34.84561239331277, 36.13389429009422, 36.199753473916246, 36.67387835766538, 39.22071295098572, 36.36024719793432, 36.63610411908917, 38.99332245115573, 37.37276214632111, 37.3741835048976, 36.65520808395947, 36.85481082475086, 38.238940853091385, 36.52738830431376, 37.341266161010715, 37.97982686004657, 36.853882459920776, 36.8227532265912, 37.29204470528371, 38.655094538522064, 36.22604169397467, 36.768603091480045, 36.57513377612486, 35.669935165958194, 37.74560774187829, 36.876313233417314, 36.897294609068695, 37.744699695149066, 37.02687697079434, 37.55088041321525, 38.4194685327455, 37.78903634703417, 35.675727630820134, 38.71707629773135, 36.62077385548951, 35.7218273299056, 39.06886445133981, 35.74277912557426, 38.55103028983871, 37.26387556144864, 37.03479128933126, 35.94639914639546, 34.81063145023747, 37.24032955207884, 36.19083323650043, 37.0616887661275, 38.61733445368848, 35.62658733096311, 35.97656497174036, 36.98591347608606, 38.06692960186935, 37.80697766984659, 36.92504303887864, 36.57503097579012, 36.33952101023726, 36.25781911850192, 37.36839124072731, 36.5170857636486, 35.46240008104617, 36.54860515461888, 36.54759627699104, 36.315763151803424, 35.622530591605994, 37.87095205416159, 37.53453024067718, 37.27757337619507, 36.60950715426321, 36.90022076162611, 37.19419104646396, 38.296110372778266, 37.333107418297075, 36.14579171248221, 37.646291787430776, 37.22939451627661, 36.31272657154038, 38.442766686805065, 37.38718052656558, 38.04031366664072, 35.92159518889928, 37.08884657968332, 37.1088163801084, 37.935189045959156, 35.86244707788159, 36.595867945874545, 39.24880390433504, 38.269060691470244, 37.4289973693919, 38.0706642585136, 37.33224074655335, 36.773861369930785, 37.76668677332467, 35.77778217066089, 37.95780983454751, 37.84065507750671, 37.977388737979744, 35.82346666642285, 37.83397172859896, 34.897827688311345, 36.37750903434099, 37.33359061333867, 38.19748324839899, 36.88119240747175, 35.90025278215821, 35.12882235312117, 35.9745781075859, 37.763690402803434, 37.49189221040693, 35.716269159517005, 37.65040020345744, 36.04898625036686, 39.045155696388115, 36.91495154541398, 35.444264696393994, 37.922703809566, 38.00182746752369, 36.841491638054855, 35.93896250240334, 36.23210980258421, 37.90601452014432, 37.763041081545246, 38.11045690682496, 36.9569654250941, 37.08831936433477, 38.04345265084128, 36.90818962373682, 37.68546548721554, 35.78392374450292, 36.66579136924871, 38.29572526401705, 35.550772266806135, 37.951946317735135, 37.34573893439929, 35.42933438847124, 36.18913179541947, 34.574027587189626, 38.95246252162796, 34.487184747742425, 36.170494202480995, 37.02715036476953, 36.882149081506796, 37.31770494919685, 37.128039498322295, 36.155336204959546, 38.381955972136154, 37.86921693600857, 35.56543623713973, 36.04620351842453, 38.918748541019504, 37.19936752783635, 37.32981862521235, 36.51734612004179, 37.30596141998359, 38.31564796064117, 36.68836654250485, 37.05261630809583, 35.569170317446186, 38.50588332918249, 36.99529016635977, 35.189122444377716, 38.775665296116884, 36.98504141740091, 35.9380452301724, 36.72902940108785, 37.62690680204789, 38.79123468689964, 37.6373109611636, 36.95395970110429, 37.07437106706514, 36.01231723045213, 37.14209368933963, 36.72527682557128, 36.393683855020775, 36.68339299807869, 37.86144725932397, 36.45689841052433, 37.23984661097634, 39.67259095594186, 37.022268985912326, 38.42286529341121, 38.40137368953426, 36.61119877576035, 35.63211221551042, 36.308545294390356, 36.35250276938114, 37.0234792364057, 36.08964365766702, 39.24096484164356, 37.181447310649894, 37.305361879286025, 36.831535850846905, 36.97937237345656, 35.90675636579306, 37.645838788014025, 35.4567981489283, 35.63395394740078, 36.486325072393406, 37.805509432449185, 37.680287608367976, 37.683875373647005, 37.64780805527063, 36.83936583281821, 36.80837605948796, 37.72236711094261, 36.32214091690131, 35.76615350038372, 34.77975050203264, 37.03427958207978, 36.86218334634355, 37.425278680067905, 36.838656786348494, 35.26149811626243, 37.211152581351115, 36.929761561703394, 38.406329010114156, 37.67232248424959, 34.64980004740713, 36.36684324701071, 37.487049248551685, 36.673952738564225, 36.599289087393494, 36.378271013194265, 38.86023443032664, 36.166463391921475, 37.071643198252396, 36.29889307823573, 38.68258378408295, 36.16604163340145, 36.875025808917755, 38.12651979793058, 35.76932963050029, 35.536024530304154, 36.07455114016891, 37.198427822725975, 36.874543604679936, 36.35523488364423, 36.53409567089256, 36.05864760322049, 38.18776368086846, 37.133126759376324, 37.684877275306064, 36.81293412550145, 37.83544772741218, 35.53914242750509, 37.96597162275135, 36.4179847963968, 37.1902677104526, 38.33257633196044, 36.840085729767004, 35.771016191612965]}, {\"axis\": {\"matches\": true}, \"label\": \"Length of Membership\", \"values\": [4.0826206329529615, 2.66403418213262, 4.104543202376424, 3.120178782748092, 4.446308318351434, 5.493507201364199, 4.685017246570912, 4.4342734348999375, 3.2734335777477144, 3.202806071553459, 2.4826077705105956, 3.71320920294043, 4.046423164299585, 3.9185418391589986, 2.494543646659249, 3.3578468423262944, 3.1361327164897803, 2.420806160901484, 1.516575580831944, 4.064548550437977, 4.599937357614995, 1.559151939957077, 2.2451477874052825, 3.9193023085531835, 5.7051539706010255, 2.7217359920452187, 4.6481993164286015, 2.9963645262685388, 3.9234887455274365, 4.742577519573317, 3.0623681453116887, 3.471413452477678, 4.343062915388998, 2.8200972339734696, 4.1245852967146535, 3.6492861577147018, 1.8473704233395083, 3.4523885826307272, 4.650491269094463, 4.22243622534277, 4.671275460906252, 4.646119976606155, 4.214495086037866, 4.643258549800133, 2.2586863869468434, 3.663105491283853, 3.8768751769237673, 4.113226122724209, 3.2025311992107337, 3.1983992716849063, 5.97676812602, 2.9526689579217362, 2.0948917061051766, 3.855471684564181, 2.8745969103039517, 3.3920504890738385, 2.995761182613056, 3.315224753915404, 3.4719191365417483, 3.9705556280753487, 4.639320331857263, 5.0812100924911086, 4.8026306305233755, 3.4146884225048972, 3.4622988474603718, 5.377593583586979, 4.0017863457980845, 3.4395905595500764, 2.7795207192736093, 3.5526497674265176, 2.6022871120328714, 4.694322274442824, 3.4015223445155094, 3.8515788003584657, 3.2581128828882795, 3.1205689148169737, 2.8379431640697987, 4.470282584120024, 4.442054329011167, 3.164943995285113, 3.7517345520890513, 3.159754443950926, 4.130562809236324, 1.9140899242311, 4.396651901097084, 5.113319474870623, 2.669941624279581, 3.3664637433729325, 4.571213023779052, 3.917451119136939, 2.476139050596412, 4.125584363255396, 3.9972553776226674, 1.3626740800013843, 4.193324635532072, 3.871003400176416, 4.081802694781509, 4.252006105620936, 3.911708668370663, 3.021671821710012, 3.1846186616208865, 2.877224878259828, 2.5869679851624765, 2.96964022663276, 3.4288599039280125, 2.926940235492512, 3.7818230393432963, 3.004742535925674, 3.854473855602962, 3.318822278930893, 3.3618146243831437, 3.722561172893833, 3.5435470501829984, 2.789461516374708, 5.4859767341605234, 2.5941897205777797, 2.75342416875812, 5.004820577490747, 3.873337568743252, 3.79872531905254, 3.2927976625756474, 4.716104987209577, 4.018726609737513, 3.637701279515837, 3.834169666632599, 4.5319866066666314, 4.106055151602658, 3.2182653850978555, 3.2836634554040165, 2.924020724598205, 3.9052503089821298, 4.9203184061183185, 2.473596120847858, 4.1312766483776535, 1.7677307075942403, 2.72410820200549, 3.897115859957253, 2.491671541288354, 3.863425442205034, 3.578633900393988, 3.9588922643660966, 3.251741770306888, 3.914384667246393, 1.4435150746515455, 2.9100379165410684, 3.3455709758422434, 3.0895277822700096, 4.514122441132637, 1.8258846690261428, 3.993656512525085, 2.6521583048512407, 6.401228837806772, 5.3912751250206306, 6.076653638440144, 3.8648607392342784, 2.941410754428091, 5.084861308602488, 6.922689335035808, 3.6043985602569495, 3.7849321101304056, 3.30918232804298, 0.9686221157417688, 3.7685619627098967, 3.585160635161344, 4.520353377496559, 3.6758488000184415, 2.873007508505152, 4.055775961742958, 3.015175298743708, 4.717102512825834, 2.9263964487266882, 2.361086946869883, 4.9687426737281415, 0.8015157200042076, 3.669225611315444, 1.7157771665531147, 4.773503047345896, 4.0878372729217025, 4.131755039569861, 3.4427992020016864, 4.724027439824315, 3.2309738432875563, 2.972271382079821, 3.1823297317868184, 4.8063496187852826, 3.6203649883552003, 3.2613247447870934, 3.597459968849926, 4.789201624179895, 3.3164647447029107, 4.632460945972205, 3.3084430006746035, 4.015986640445782, 4.369366793790984, 2.56663984381683, 3.5190324339539223, 1.5038544212252951, 5.039955263662929, 4.47871260846301, 3.3616129845381932, 1.9207154781756468, 4.330714461860564, 3.811248170807232, 3.0887639575315755, 4.541695256706066, 5.066696864020984, 3.1074686827074625, 4.74698970293514, 3.091826869545788, 3.1956257763719886, 3.8502796390964265, 3.974522480483529, 3.843848921495288, 2.9090084604850786, 1.1390935384245742, 2.6852848361090778, 3.1089114491812744, 4.852842407156434, 2.30755242118396, 4.83552866742221, 3.6785893989539975, 5.254708925941115, 3.8928914802112553, 4.3894552264165165, 4.003325039023282, 0.7895199078816915, 4.403369830866465, 2.6485967702033166, 2.367848224385221, 3.0507129732180167, 3.641497161540088, 3.397363092819078, 4.297686524285517, 3.8033649990651752, 2.6334199887174443, 3.634093727357596, 3.467014066009709, 1.4943108951995074, 2.267251114447051, 5.023934200606659, 2.471750669720034, 4.297737481971208, 2.4369588757864635, 3.6569839266881434, 5.000243360514445, 2.412830960970925, 5.314354141170212, 4.0777750980104255, 3.2750706813095327, 3.634996006306897, 3.9824715131070567, 3.2877018240744085, 2.3133498845806395, 3.557813698186695, 3.3502792875449083, 2.9070949348220267, 3.7927119551515887, 4.029453828152191, 4.9784757934702615, 2.6995620549722683, 3.9306153266132897, 3.4562338235263015, 2.1820169698233887, 2.7095266269292764, 4.594116864603191, 4.25698328967803, 3.784273087078304, 1.6234196094562199, 3.4145062403052493, 3.6060868889081727, 3.275733705185027, 5.007271986589903, 3.3712581132239197, 5.453969474611709, 3.7558693892629655, 4.664258497238649, 3.8066709485629935, 5.049927474652407, 2.871947536151015, 3.2367328142505314, 3.0863372723173255, 4.559699083258959, 3.0102097779609496, 1.8092295917763104, 3.594295099901167, 3.0491957437894315, 3.6343402240734415, 1.4823596439649784, 2.921350140816143, 1.8100798764120296, 3.3731046739911137, 2.2147975193939367, 5.4544632775645265, 3.2018017221749915, 4.729484541572504, 3.205529764506833, 3.802511438790271, 4.116340467131812, 5.462500764129898, 1.4816166268553612, 3.771420131891554, 2.898299577888636, 3.5690465158585187, 1.0845853030221226, 3.0234744460455456, 5.56638489205681, 2.3951681299791368, 3.5048334855203, 5.226687712532106, 1.8382107022501144, 3.3634113937857366, 2.957448756503683, 2.0838141920346707, 3.680847338174777, 4.693732057983858, 4.008352234634593, 2.5320440615078934, 2.8709869096996963, 3.515688256202335, 4.069916618589859, 1.2004838567566694, 3.22945090446699, 4.086566338485993, 4.019470351595002, 4.205903889533483, 2.0181946292873114, 4.2438128167261855, 4.626075291951958, 3.00295702283384, 1.8235951829918033, 4.078308001651641, 3.6899166154475918, 2.1901321853800533, 3.2067566975868704, 1.9770071278430592, 3.3492453825271813, 3.5328615795564757, 2.9747368150832405, 2.6181653103960847, 2.8040136926903942, 2.9644978762354017, 4.3508878437244665, 3.8724320418689104, 4.615426306527649, 2.727209453758874, 3.537123879902206, 3.12650948966, 5.137816745950984, 3.1286388557446334, 3.1789524050534483, 3.8273759151075666, 4.808320372869162, 4.048510087289211, 4.5433324132930855, 3.4810621331251683, 2.627624971434411, 4.794312263402833, 2.7618619263014166, 2.1596760229888288, 4.1956144126751305, 2.139403004485981, 3.43455972254092, 2.8684281816397523, 3.1370689754806818, 3.5258064121952244, 5.038107493844868, 3.6122391519937, 2.895075162804356, 5.705940716620837, 5.0470225513950995, 4.778973636034999, 2.96655888465992, 2.6689197733345025, 3.620354588804087, 4.238296188412728, 2.4793398232086954, 3.506967573635258, 3.3101503465768563, 3.5358024678738285, 1.1304769604319769, 3.2287176862706497, 3.3459223210048927, 3.2156668270219866, 3.7905521368804433, 3.5612152714310823, 2.931619534651152, 3.0465406206892376, 2.739200466766662, 2.783963128204522, 4.330407444211276, 3.41620997759013, 3.3363393820041853, 4.662845304002564, 3.222080766760957, 3.772969024644708, 3.4201495301648563, 6.115198945760052, 3.488029991222592, 4.082855278762214, 2.8296995751470893, 5.4054064672295095, 3.4517507098331026, 2.9355772737404866, 4.75036007144446, 3.5314023030588984, 3.904479379627935, 2.399079789790412, 2.8477090264744978, 3.781703565104839, 4.34977841863416, 4.574287716419565, 4.620416384895068, 3.0130325004194374, 4.791108744558266, 4.334001444341368, 1.4288238768282668, 4.137000388171066, 2.910530822492482, 3.9824623189556383, 3.7012292170202734, 5.8405058759314255, 4.560396067343642, 4.4900020655598345, 3.859817998874008, 3.0466201888222324, 4.652854446136779, 4.0221029095289484, 3.9694177591077393, 3.7382251733253336, 3.37668749953603, 4.595522708601322, 2.2239934582520533, 4.288486770885737, 2.11738254152726, 0.9364975973183264, 3.7620704427115657, 4.00096358646012, 3.5325171645393527, 3.5350884276189447, 4.158214652664192, 3.549036057426973, 4.129254688094536, 2.2524459633808416, 4.051382465375181, 3.0720761414868827, 4.331863026751083, 3.937862643180167, 0.2699010899842742, 3.2794662600656097, 2.5717778354776577, 3.8260306175375134, 2.4024538334142242, 4.02781384191709, 3.629339915268192, 3.189609941879746, 3.393975043434297, 2.574948470025072, 3.4720213800343784, 4.198349060814376, 2.086348146609663, 3.6059339177330716, 4.034386130357467, 2.320550249888456, 3.4910933370091515, 5.320093863780987, 3.130538462464844, 4.985204970864012, 1.726962043188511, 3.7016222869142337, 1.7851739448879638, 3.0226757598626595, 4.041244969129275, 3.13952693504287, 2.5628188108032326, 2.3790764968915394, 4.301996499354755, 2.0947616690074846, 4.089330841235956, 3.5160510174718302, 1.8208106181524435, 4.1831436617261275, 3.393902788069372, 4.4263640805293125, 2.9052383614465733, 2.7827578284994163, 3.4470177927906893, 4.712233578509767, 1.2281124234144234, 4.019051426800218, 1.7073897286757314, 3.1630919310737573, 3.4470928961368963, 2.208813678005546, 5.412357839551379, 2.768851943263104, 3.746572973103466, 3.5765259152594644, 4.9582644726186995, 2.336484668112853, 2.7351595670822757]}, {\"axis\": {\"matches\": true}, \"label\": \"Yearly Amount Spent\", \"values\": [587.9510539684005, 392.2049334443264, 487.54750486747207, 581.8523440352177, 599.4060920457634, 637.102447915074, 521.5721747578274, 549.9041461052942, 570.2004089636196, 427.1993848953282, 492.6060127179966, 522.3374046069357, 408.6403510726275, 573.4158673313865, 470.45273330095534, 461.7807421962299, 457.84769594494855, 407.7045475495442, 452.3156754800354, 605.061038804892, 534.7057438060227, 419.93877483917913, 436.51560572936256, 519.3409891307888, 700.9170916173961, 423.17999168059777, 619.8956398616367, 486.83893476506273, 529.537665336851, 554.7220838330761, 497.5866713004408, 447.6879065360587, 588.7126055095755, 491.07322367951963, 507.4418323396168, 521.8835731664783, 347.77692663187264, 490.73863214395465, 478.1703340540876, 537.8461952695957, 532.7517875818364, 501.87443028426947, 591.1971781805905, 547.2443434159983, 448.22982918655, 549.860590464497, 593.9150029682891, 563.6728733601083, 479.73194908594513, 416.35835357990084, 725.5848140556807, 442.667251738628, 384.62657156940537, 451.4574468676027, 522.40414125956, 483.67330801904563, 520.8987944502368, 453.16950235469744, 496.650708068581, 547.3651405940458, 616.8515229667128, 507.21256900067846, 613.5993233689068, 483.15972078451705, 540.2634004105403, 765.5184619388373, 553.6015346844503, 469.3108614953106, 408.6201878298378, 451.57568515949305, 444.96655165329264, 595.8228366992038, 418.1500810968496, 534.7771880994133, 578.2416050583772, 478.7193568742153, 444.2859074976437, 544.7798637193824, 488.78606109390563, 475.759067788328, 489.8124879964614, 462.8976361529081, 596.4301726172282, 338.31986264152215, 533.5149352552407, 536.7718993628412, 487.37930601702914, 473.7289665129948, 547.1259317471988, 505.1133435398578, 449.0703194428044, 611.0000251040717, 515.8288148548279, 439.07476674164496, 514.0889577465721, 543.340166256701, 521.1429518103512, 614.7153338263417, 507.39006178986654, 495.2994425473087, 518.0645579840107, 390.1032729724755, 420.7376732446372, 492.1050523891852, 410.0696110599829, 497.51368332936767, 494.55186108657256, 378.3309069068038, 570.451725912857, 549.0082269346927, 459.285123462352, 492.94505306595823, 424.7626355099111, 422.4267758765091, 642.1015787311585, 413.3717831104521, 479.23109291159307, 593.0772413447513, 506.5473070543517, 571.3074948754644, 576.311177371677, 576.8025473995871, 514.239520718957, 495.1759504494754, 514.3365582674006, 541.2265839893283, 516.8315566841785, 468.44573722740637, 548.2803201983364, 431.6177337614297, 552.9403454501056, 573.3062222574563, 452.6272549950831, 542.7115581025776, 407.8040306356823, 482.3535703213532, 529.2300901235094, 433.04876909582663, 476.1914133494556, 439.997879939927, 448.9332932076744, 472.9922466667984, 463.9235129903258, 350.05820016384524, 460.06127739124327, 505.77114032295646, 463.484995404266, 479.73193764530447, 424.18549428888633, 465.8893127108669, 426.7752159856604, 684.1634310159512, 555.8925953881737, 657.0199239376519, 595.8038188761143, 503.9783790525795, 586.1558701804727, 744.2218671047146, 512.8253581285203, 528.2238093680072, 468.9135013219844, 357.59143941508614, 536.4231045259343, 490.2065999848547, 550.0475805761635, 513.4505711860965, 497.8119300055205, 578.9862585804897, 506.5363931400864, 501.74923330839226, 421.9667941858674, 439.8912804768137, 666.125591725772, 298.76200786180766, 465.17662330529686, 373.88572369695015, 532.7174856761749, 554.9007830202702, 537.7731625414566, 501.100245232053, 517.1651355939779, 557.5292736134538, 493.71919297817595, 452.12262508578493, 577.2734549822936, 485.9231305248517, 425.74509203105276, 537.2150526997326, 524.6379646141048, 478.8853913201482, 612.3852298963608, 476.76672415476344, 505.11963752820367, 545.9454921414049, 434.0216997527185, 424.67528101321335, 352.5501081630004, 662.9610878058954, 560.5601606242603, 467.5019004269896, 504.87043239337237, 590.56271964715, 443.9656268098819, 392.4973991890214, 568.7175759305222, 712.3963268096637, 413.29599918102974, 562.0820453929382, 412.012931298847, 468.6684655991273, 496.55408163560713, 548.5185292758069, 536.1308968550213, 558.4272571753238, 357.86371863839173, 529.0566631985306, 387.3570727364218, 528.9336185650203, 420.91615953269286, 496.93344625553186, 519.372976801355, 591.4377355684502, 502.40978530290533, 604.3348400688553, 555.0683940545761, 256.67058229005585, 547.1109823629461, 461.9208768928978, 458.3769106506301, 436.2834981467514, 532.9352188376637, 512.5525343564016, 630.4227632299235, 463.74598112062944, 493.18021624931, 501.2091726816533, 501.9282648732441, 376.3369007569242, 421.3266312569514, 538.774933478023, 398.16346853365195, 571.4710341154247, 451.62861054019965, 490.6004425003995, 591.7810894256675, 409.0704720533178, 563.4460356732392, 647.6194557251927, 448.34042501104767, 518.7864830920807, 523.6339351357243, 393.8573709860865, 426.154547713103, 503.3878872879605, 482.6024673294826, 524.7976275698038, 574.6548433659394, 574.7472196620896, 660.4251842914138, 375.39845541024323, 640.1877400085723, 514.0098178487357, 376.49684071853693, 484.51980911055125, 614.7296376283243, 567.4750105270774, 554.0030934297989, 399.98387159812256, 479.17285149109694, 585.9318442972224, 540.9957391083377, 628.0478039330168, 582.4919237338106, 640.7861663983061, 446.41867337013565, 570.6300980875259, 423.3083340974698, 616.6602860166828, 530.3624688854229, 442.3631173838644, 511.9798599920658, 560.4437921717631, 475.2634237275485, 374.2696745439231, 463.5914180279406, 471.602884392892, 626.018672655394, 432.47206125141577, 356.6155678900057, 467.4278485003528, 503.2173931191066, 378.47356644790113, 584.2183134866807, 451.7278633175868, 557.6341089957289, 432.7207178399336, 506.42385996980016, 510.1598172791045, 587.5747994806404, 282.4712457199145, 473.94985742281614, 489.9080530975354, 541.9722037582585, 266.086340948469, 494.6871558102853, 689.7876041747194, 387.5347163057077, 441.89663151788625, 604.8413188212228, 302.18954780965197, 479.61481167314247, 506.132342437705, 319.9288698031936, 528.3092250312227, 610.1280331303979, 584.1058850493532, 466.4211988217437, 404.82452887268687, 564.7909690079206, 596.516697973153, 368.6547849470645, 542.4124767293989, 478.2621263968358, 473.360495571661, 559.1990479544187, 447.1876443054185, 505.2300682820706, 557.2526867470547, 422.36873660682653, 445.06218550892487, 442.0644137580657, 533.0400601788124, 424.2028270990325, 498.635598489176, 330.5944460341002, 443.4418600624623, 478.60091594433294, 440.0027475469415, 357.7831107453153, 476.139246872566, 501.12249150365636, 592.6884532021675, 486.0834255029927, 576.0252441251166, 442.7228915742714, 461.7909590614097, 488.387525780145, 593.1564014822196, 392.81034498379717, 443.19722102875534, 535.4807751896418, 533.3965537868428, 532.1274491097012, 558.9481123879059, 508.771906741518, 403.7669020956173, 640.5840618984408, 461.6282783910862, 382.41610786547517, 561.874657668983, 444.5761441337301, 401.03313521910604, 384.3260571375157, 527.7829957560522, 482.14499687576796, 594.2744834186118, 502.0925279023197, 407.65717875932603, 708.9351848669818, 531.9615505451646, 521.2407802357949, 447.36902719933136, 385.152337987975, 430.5888825564849, 418.602742095224, 478.9514047578856, 483.79652206149285, 538.941974531203, 486.1637990666317, 385.0950070687634, 527.7837897574573, 547.1907493518986, 410.6029439492151, 583.9778019715427, 474.53232943988985, 414.9350606518193, 550.8133677324173, 458.78113168424994, 407.54216801343483, 581.3089328794999, 546.5566668627299, 503.1750851912004, 549.1315732872171, 482.83098586170166, 557.6082620533542, 484.87696493512857, 669.9871405017029, 547.7099885778624, 537.8252822957112, 408.2169017707518, 663.0748176067602, 506.37586675019753, 528.4193296952955, 632.1235881419657, 488.2702979651482, 508.7357409506604, 411.1869635742789, 409.0945261923378, 467.8009243667916, 512.1658663881581, 608.2718166151668, 589.0264897562791, 444.05382657277283, 493.1812613907186, 532.724805462904, 275.9184206503857, 511.03878605116114, 438.41774201146853, 475.7250679098812, 483.54319386538816, 663.8036932755083, 544.4092721605869, 630.1567281670505, 461.11224843060927, 491.9115050963458, 574.4156896079883, 530.7667186547619, 581.7987976770314, 556.2981411740467, 502.132789227254, 556.1863688687886, 475.07162989966173, 486.9470538397658, 434.1442020262987, 304.1355915788555, 571.2160048349454, 583.0796356620574, 445.74984123965226, 392.99225591403086, 565.9943634015267, 499.1401524490538, 510.5394216996283, 308.52774655803336, 561.5165319790891, 423.47053317382387, 513.1531118530668, 529.1945188649573, 314.4385182951061, 478.5842860083426, 444.5821649786528, 475.0154070877503, 436.7205558562188, 521.1953105318003, 478.18305971187965, 432.48116855701767, 438.30370784642975, 388.9405487921943, 534.7714849461672, 537.9157529213054, 407.8763782204976, 618.8459704239658, 502.77107456549606, 397.420584096457, 392.2852442462675, 689.2356997616951, 543.1326262891694, 577.7360248512277, 436.5807403475482, 553.9946735912697, 427.3565308022928, 424.7287739291025, 541.0498309594357, 469.38314617236114, 444.54554965110816, 492.55683370047706, 535.3216100850124, 408.9583359406166, 487.5554580579016, 487.6462317438417, 402.16712222372564, 551.0230017027826, 497.3895577588434, 494.6386097568927, 479.2474167840931, 462.65651893471335, 515.5024796636585, 576.4776071703129, 357.85798360521926, 597.7398788791847, 327.37795258965207, 510.4013884525048, 510.50147847479735, 403.8195198321978, 627.603318713015, 510.661792219672, 573.8474377162278, 529.0490041294304, 551.6201454762477, 456.46951006629797, 497.7786422156802]}], \"hovertemplate\": \"%{xaxis.title.text}=%{x}<br>%{yaxis.title.text}=%{y}<extra></extra>\", \"legendgroup\": \"\", \"marker\": {\"color\": \"#636efa\", \"symbol\": \"circle\"}, \"name\": \"\", \"showlegend\": false, \"type\": \"splom\"}],\n",
       "                        {\"dragmode\": \"select\", \"legend\": {\"tracegroupgap\": 0}, \"margin\": {\"t\": 60}, \"template\": {\"data\": {\"bar\": [{\"error_x\": {\"color\": \"#2a3f5f\"}, \"error_y\": {\"color\": \"#2a3f5f\"}, \"marker\": {\"line\": {\"color\": \"#E5ECF6\", \"width\": 0.5}}, \"type\": \"bar\"}], \"barpolar\": [{\"marker\": {\"line\": {\"color\": \"#E5ECF6\", \"width\": 0.5}}, \"type\": \"barpolar\"}], \"carpet\": [{\"aaxis\": {\"endlinecolor\": \"#2a3f5f\", \"gridcolor\": \"white\", \"linecolor\": \"white\", \"minorgridcolor\": \"white\", \"startlinecolor\": \"#2a3f5f\"}, \"baxis\": {\"endlinecolor\": \"#2a3f5f\", \"gridcolor\": \"white\", \"linecolor\": \"white\", \"minorgridcolor\": \"white\", \"startlinecolor\": \"#2a3f5f\"}, \"type\": \"carpet\"}], \"choropleth\": [{\"colorbar\": {\"outlinewidth\": 0, \"ticks\": \"\"}, \"type\": \"choropleth\"}], \"contour\": [{\"colorbar\": {\"outlinewidth\": 0, \"ticks\": \"\"}, \"colorscale\": [[0.0, \"#0d0887\"], [0.1111111111111111, \"#46039f\"], [0.2222222222222222, \"#7201a8\"], [0.3333333333333333, \"#9c179e\"], [0.4444444444444444, \"#bd3786\"], [0.5555555555555556, \"#d8576b\"], [0.6666666666666666, \"#ed7953\"], [0.7777777777777778, \"#fb9f3a\"], [0.8888888888888888, \"#fdca26\"], [1.0, \"#f0f921\"]], \"type\": \"contour\"}], \"contourcarpet\": [{\"colorbar\": {\"outlinewidth\": 0, \"ticks\": \"\"}, \"type\": \"contourcarpet\"}], \"heatmap\": [{\"colorbar\": {\"outlinewidth\": 0, \"ticks\": \"\"}, \"colorscale\": [[0.0, \"#0d0887\"], [0.1111111111111111, \"#46039f\"], [0.2222222222222222, \"#7201a8\"], [0.3333333333333333, \"#9c179e\"], [0.4444444444444444, \"#bd3786\"], [0.5555555555555556, \"#d8576b\"], [0.6666666666666666, \"#ed7953\"], [0.7777777777777778, \"#fb9f3a\"], [0.8888888888888888, \"#fdca26\"], [1.0, \"#f0f921\"]], \"type\": \"heatmap\"}], \"heatmapgl\": [{\"colorbar\": {\"outlinewidth\": 0, \"ticks\": \"\"}, \"colorscale\": [[0.0, \"#0d0887\"], [0.1111111111111111, \"#46039f\"], [0.2222222222222222, \"#7201a8\"], [0.3333333333333333, \"#9c179e\"], [0.4444444444444444, \"#bd3786\"], [0.5555555555555556, \"#d8576b\"], [0.6666666666666666, \"#ed7953\"], [0.7777777777777778, \"#fb9f3a\"], [0.8888888888888888, \"#fdca26\"], [1.0, \"#f0f921\"]], \"type\": \"heatmapgl\"}], \"histogram\": [{\"marker\": {\"colorbar\": {\"outlinewidth\": 0, \"ticks\": \"\"}}, \"type\": \"histogram\"}], \"histogram2d\": [{\"colorbar\": {\"outlinewidth\": 0, \"ticks\": \"\"}, \"colorscale\": [[0.0, \"#0d0887\"], [0.1111111111111111, \"#46039f\"], [0.2222222222222222, \"#7201a8\"], [0.3333333333333333, \"#9c179e\"], [0.4444444444444444, \"#bd3786\"], [0.5555555555555556, \"#d8576b\"], [0.6666666666666666, \"#ed7953\"], [0.7777777777777778, \"#fb9f3a\"], [0.8888888888888888, \"#fdca26\"], [1.0, \"#f0f921\"]], \"type\": \"histogram2d\"}], \"histogram2dcontour\": [{\"colorbar\": {\"outlinewidth\": 0, \"ticks\": \"\"}, \"colorscale\": [[0.0, \"#0d0887\"], [0.1111111111111111, \"#46039f\"], [0.2222222222222222, \"#7201a8\"], [0.3333333333333333, \"#9c179e\"], [0.4444444444444444, \"#bd3786\"], [0.5555555555555556, \"#d8576b\"], [0.6666666666666666, \"#ed7953\"], [0.7777777777777778, \"#fb9f3a\"], [0.8888888888888888, \"#fdca26\"], [1.0, \"#f0f921\"]], \"type\": \"histogram2dcontour\"}], \"mesh3d\": [{\"colorbar\": {\"outlinewidth\": 0, \"ticks\": \"\"}, \"type\": \"mesh3d\"}], \"parcoords\": [{\"line\": {\"colorbar\": {\"outlinewidth\": 0, \"ticks\": \"\"}}, \"type\": \"parcoords\"}], \"pie\": [{\"automargin\": true, \"type\": \"pie\"}], \"scatter\": [{\"marker\": {\"colorbar\": {\"outlinewidth\": 0, \"ticks\": \"\"}}, \"type\": \"scatter\"}], \"scatter3d\": [{\"line\": {\"colorbar\": {\"outlinewidth\": 0, \"ticks\": \"\"}}, \"marker\": {\"colorbar\": {\"outlinewidth\": 0, \"ticks\": \"\"}}, \"type\": \"scatter3d\"}], \"scattercarpet\": [{\"marker\": {\"colorbar\": {\"outlinewidth\": 0, \"ticks\": \"\"}}, \"type\": \"scattercarpet\"}], \"scattergeo\": [{\"marker\": {\"colorbar\": {\"outlinewidth\": 0, \"ticks\": \"\"}}, \"type\": \"scattergeo\"}], \"scattergl\": [{\"marker\": {\"colorbar\": {\"outlinewidth\": 0, \"ticks\": \"\"}}, \"type\": \"scattergl\"}], \"scattermapbox\": [{\"marker\": {\"colorbar\": {\"outlinewidth\": 0, \"ticks\": \"\"}}, \"type\": \"scattermapbox\"}], \"scatterpolar\": [{\"marker\": {\"colorbar\": {\"outlinewidth\": 0, \"ticks\": \"\"}}, \"type\": \"scatterpolar\"}], \"scatterpolargl\": [{\"marker\": {\"colorbar\": {\"outlinewidth\": 0, \"ticks\": \"\"}}, \"type\": \"scatterpolargl\"}], \"scatterternary\": [{\"marker\": {\"colorbar\": {\"outlinewidth\": 0, \"ticks\": \"\"}}, \"type\": \"scatterternary\"}], \"surface\": [{\"colorbar\": {\"outlinewidth\": 0, \"ticks\": \"\"}, \"colorscale\": [[0.0, \"#0d0887\"], [0.1111111111111111, \"#46039f\"], [0.2222222222222222, \"#7201a8\"], [0.3333333333333333, \"#9c179e\"], [0.4444444444444444, \"#bd3786\"], [0.5555555555555556, \"#d8576b\"], [0.6666666666666666, \"#ed7953\"], [0.7777777777777778, \"#fb9f3a\"], [0.8888888888888888, \"#fdca26\"], [1.0, \"#f0f921\"]], \"type\": \"surface\"}], \"table\": [{\"cells\": {\"fill\": {\"color\": \"#EBF0F8\"}, \"line\": {\"color\": \"white\"}}, \"header\": {\"fill\": {\"color\": \"#C8D4E3\"}, \"line\": {\"color\": \"white\"}}, \"type\": \"table\"}]}, \"layout\": {\"annotationdefaults\": {\"arrowcolor\": \"#2a3f5f\", \"arrowhead\": 0, \"arrowwidth\": 1}, \"coloraxis\": {\"colorbar\": {\"outlinewidth\": 0, \"ticks\": \"\"}}, \"colorscale\": {\"diverging\": [[0, \"#8e0152\"], [0.1, \"#c51b7d\"], [0.2, \"#de77ae\"], [0.3, \"#f1b6da\"], [0.4, \"#fde0ef\"], [0.5, \"#f7f7f7\"], [0.6, \"#e6f5d0\"], [0.7, \"#b8e186\"], [0.8, \"#7fbc41\"], [0.9, \"#4d9221\"], [1, \"#276419\"]], \"sequential\": [[0.0, \"#0d0887\"], [0.1111111111111111, \"#46039f\"], [0.2222222222222222, \"#7201a8\"], [0.3333333333333333, \"#9c179e\"], [0.4444444444444444, \"#bd3786\"], [0.5555555555555556, \"#d8576b\"], [0.6666666666666666, \"#ed7953\"], [0.7777777777777778, \"#fb9f3a\"], [0.8888888888888888, \"#fdca26\"], [1.0, \"#f0f921\"]], \"sequentialminus\": [[0.0, \"#0d0887\"], [0.1111111111111111, \"#46039f\"], [0.2222222222222222, \"#7201a8\"], [0.3333333333333333, \"#9c179e\"], [0.4444444444444444, \"#bd3786\"], [0.5555555555555556, \"#d8576b\"], [0.6666666666666666, \"#ed7953\"], [0.7777777777777778, \"#fb9f3a\"], [0.8888888888888888, \"#fdca26\"], [1.0, \"#f0f921\"]]}, \"colorway\": [\"#636efa\", \"#EF553B\", \"#00cc96\", \"#ab63fa\", \"#FFA15A\", \"#19d3f3\", \"#FF6692\", \"#B6E880\", \"#FF97FF\", \"#FECB52\"], \"font\": {\"color\": \"#2a3f5f\"}, \"geo\": {\"bgcolor\": \"white\", \"lakecolor\": \"white\", \"landcolor\": \"#E5ECF6\", \"showlakes\": true, \"showland\": true, \"subunitcolor\": \"white\"}, \"hoverlabel\": {\"align\": \"left\"}, \"hovermode\": \"closest\", \"mapbox\": {\"style\": \"light\"}, \"paper_bgcolor\": \"white\", \"plot_bgcolor\": \"#E5ECF6\", \"polar\": {\"angularaxis\": {\"gridcolor\": \"white\", \"linecolor\": \"white\", \"ticks\": \"\"}, \"bgcolor\": \"#E5ECF6\", \"radialaxis\": {\"gridcolor\": \"white\", \"linecolor\": \"white\", \"ticks\": \"\"}}, \"scene\": {\"xaxis\": {\"backgroundcolor\": \"#E5ECF6\", \"gridcolor\": \"white\", \"gridwidth\": 2, \"linecolor\": \"white\", \"showbackground\": true, \"ticks\": \"\", \"zerolinecolor\": \"white\"}, \"yaxis\": {\"backgroundcolor\": \"#E5ECF6\", \"gridcolor\": \"white\", \"gridwidth\": 2, \"linecolor\": \"white\", \"showbackground\": true, \"ticks\": \"\", \"zerolinecolor\": \"white\"}, \"zaxis\": {\"backgroundcolor\": \"#E5ECF6\", \"gridcolor\": \"white\", \"gridwidth\": 2, \"linecolor\": \"white\", \"showbackground\": true, \"ticks\": \"\", \"zerolinecolor\": \"white\"}}, \"shapedefaults\": {\"line\": {\"color\": \"#2a3f5f\"}}, \"ternary\": {\"aaxis\": {\"gridcolor\": \"white\", \"linecolor\": \"white\", \"ticks\": \"\"}, \"baxis\": {\"gridcolor\": \"white\", \"linecolor\": \"white\", \"ticks\": \"\"}, \"bgcolor\": \"#E5ECF6\", \"caxis\": {\"gridcolor\": \"white\", \"linecolor\": \"white\", \"ticks\": \"\"}}, \"title\": {\"x\": 0.05}, \"xaxis\": {\"automargin\": true, \"gridcolor\": \"white\", \"linecolor\": \"white\", \"ticks\": \"\", \"title\": {\"standoff\": 15}, \"zerolinecolor\": \"white\", \"zerolinewidth\": 2}, \"yaxis\": {\"automargin\": true, \"gridcolor\": \"white\", \"linecolor\": \"white\", \"ticks\": \"\", \"title\": {\"standoff\": 15}, \"zerolinecolor\": \"white\", \"zerolinewidth\": 2}}}},\n",
       "                        {\"responsive\": true}\n",
       "                    ).then(function(){\n",
       "                            \n",
       "var gd = document.getElementById('2913053c-1b0b-42de-8bdf-288bde7486ff');\n",
       "var x = new MutationObserver(function (mutations, observer) {{\n",
       "        var display = window.getComputedStyle(gd).display;\n",
       "        if (!display || display === 'none') {{\n",
       "            console.log([gd, 'removed!']);\n",
       "            Plotly.purge(gd);\n",
       "            observer.disconnect();\n",
       "        }}\n",
       "}});\n",
       "\n",
       "// Listen for the removal of the full notebook cells\n",
       "var notebookContainer = gd.closest('#notebook-container');\n",
       "if (notebookContainer) {{\n",
       "    x.observe(notebookContainer, {childList: true});\n",
       "}}\n",
       "\n",
       "// Listen for the clearing of the current output cell\n",
       "var outputEl = gd.closest('.output');\n",
       "if (outputEl) {{\n",
       "    x.observe(outputEl, {childList: true});\n",
       "}}\n",
       "\n",
       "                        })\n",
       "                };\n",
       "                });\n",
       "            </script>\n",
       "        </div>"
      ]
     },
     "metadata": {},
     "output_type": "display_data"
    }
   ],
   "source": [
    "px.scatter_matrix(df)"
   ]
  },
  {
   "cell_type": "code",
   "execution_count": 114,
   "metadata": {},
   "outputs": [],
   "source": [
    "x=df['Length of Membership']"
   ]
  },
  {
   "cell_type": "code",
   "execution_count": 115,
   "metadata": {},
   "outputs": [
    {
     "data": {
      "text/plain": [
       "<matplotlib.collections.PathCollection at 0x16f4d014630>"
      ]
     },
     "execution_count": 115,
     "metadata": {},
     "output_type": "execute_result"
    },
    {
     "data": {
      "image/png": "[encoded data removed]",
      "text/plain": [
       "<Figure size 432x288 with 1 Axes>"
      ]
     },
     "metadata": {
      "needs_background": "light"
     },
     "output_type": "display_data"
    }
   ],
   "source": [
    "plt.scatter(x,y)"
   ]
  },
  {
   "cell_type": "markdown",
   "metadata": {},
   "source": [
    "### Divide the dataset into training and test sets with the ratio 80:20."
   ]
  },
  {
   "cell_type": "code",
   "execution_count": 116,
   "metadata": {},
   "outputs": [],
   "source": [
    "(x_train,x_test,y_train,y_test)=train_test_split(x,y,test_size=0.2, random_state=42)"
   ]
  },
  {
   "cell_type": "markdown",
   "metadata": {},
   "source": [
    "### Use the resulting train and test sets with the next 2 functions to fit linear regression and plot the resulting regression line."
   ]
  },
  {
   "cell_type": "markdown",
   "metadata": {},
   "source": [
    "The first function is `fit_1d_linear_regression` that takes two vectors $x$ and $y$, and returns a numpy array ($\\beta_0, \\beta_1)$, where $\\beta_0$ is the intercept of the line, and $\\beta_1$ is the slope. "
   ]
  },
  {
   "cell_type": "code",
   "execution_count": 155,
   "metadata": {},
   "outputs": [],
   "source": [
    "def fit_1d_linear_regression(data_vector, response_vector):\n",
    "    \"\"\"\n",
    "    :param data_vector: A pandas series object (i.e. a column of a dataframe),\n",
    "                        where each element is a data point (x)\n",
    "    :param response_vector: A pandas series object (i.e. a column of a dataframe),\n",
    "                        where each element is label (y)\n",
    "    :return: numpy array beta of coefficients of the regression\n",
    "    \n",
    "    Note: You can avoid the intercept for simplicity \n",
    "    or include the intercept for an extra point\n",
    "    \"\"\"\n",
    "    x=np.array([data_vector,np.ones(len(data_vector))])\n",
    "    y=np.array(response_vector)\n",
    "    \n",
    "    coeffs=np.linalg.inv(x.dot(x.T)).dot(x.dot(y))\n",
    "    \n",
    "    \n",
    "    return coeffs"
   ]
  },
  {
   "cell_type": "markdown",
   "metadata": {},
   "source": [
    "The second function is `plot_line` function, that takes $\\beta_0, \\beta_1, x, y$ and plots a scatter plot of the data, and the line $y = \\beta_0 + \\beta_1 x$. And saves the plot in `YOURNAME.png`"
   ]
  },
  {
   "cell_type": "code",
   "execution_count": 156,
   "metadata": {},
   "outputs": [],
   "source": [
    "def plot_fitted_line(b0,\n",
    "                     b1,\n",
    "                     x,\n",
    "                     y,\n",
    "                     username: str):\n",
    "    \"\"\"\n",
    "    :param b0: Intersept of line to plot\n",
    "    Note: avoid this if you don't have an intercept in the previous function\n",
    "    :param b1: Slope of the line to plot\n",
    "    :param x: A pandas series object (i.e. a column of a dataframe),\n",
    "                        where each element is a data point (x coordinates)\n",
    "    :param y: A pandas series object (i.e. a column of a dataframe),\n",
    "                        where each element is a label (y coordinates)\n",
    "    \"\"\"\n",
    "    plt.scatter(x,y,color=\"black\")\n",
    "    plt.plot(x,b0*x+b1,color=\"blue\")\n",
    "    plt.savefig(username)\n",
    "    \n",
    "    "
   ]
  },
  {
   "cell_type": "markdown",
   "metadata": {},
   "source": [
    "### Plot example"
   ]
  },
  {
   "attachments": {
    "image.png": {
     "image/png": "[encoded data removed]"
    }
   },
   "cell_type": "markdown",
   "metadata": {},
   "source": [
    "![image.png](attachment:image.png)"
   ]
  },
  {
   "cell_type": "markdown",
   "metadata": {},
   "source": [
    "### Now fit the linear regression to the data containing only 1 feature using sklearn and compare the results with your own fit_1d_linear_regression function"
   ]
  },
  {
   "cell_type": "code",
   "execution_count": 157,
   "metadata": {},
   "outputs": [
    {
     "data": {
      "image/png": "[encoded data removed]",
      "text/plain": [
       "<Figure size 432x288 with 1 Axes>"
      ]
     },
     "metadata": {
      "needs_background": "light"
     },
     "output_type": "display_data"
    }
   ],
   "source": [
    "b=fit_1d_linear_regression(x_train,y_train)\n",
    "plot_fitted_line(b[0],b[1],x_train,y_train,\"fig\")"
   ]
  },
  {
   "cell_type": "code",
   "execution_count": 238,
   "metadata": {},
   "outputs": [
    {
     "data": {
      "text/plain": [
       "LinearRegression(copy_X=True, fit_intercept=True, n_jobs=None, normalize=False)"
      ]
     },
     "execution_count": 238,
     "metadata": {},
     "output_type": "execute_result"
    }
   ],
   "source": [
    "model=LinearRegression(fit_intercept=True)\n",
    "model.fit(np.array(x_train).reshape(-1,1),np.array(y_train))"
   ]
  },
  {
   "cell_type": "code",
   "execution_count": 214,
   "metadata": {},
   "outputs": [
    {
     "name": "stdout",
     "output_type": "stream",
     "text": [
      "64.64010065386708 271.3521128033932\n"
     ]
    }
   ],
   "source": [
    "print(*model.coef_,model.intercept_)"
   ]
  },
  {
   "cell_type": "code",
   "execution_count": 215,
   "metadata": {},
   "outputs": [
    {
     "data": {
      "text/plain": [
       "array([ 64.64010065, 271.3521128 ])"
      ]
     },
     "execution_count": 215,
     "metadata": {},
     "output_type": "execute_result"
    }
   ],
   "source": [
    "b"
   ]
  },
  {
   "cell_type": "markdown",
   "metadata": {},
   "source": [
    "\n",
    "### Use sklearn.metrics to calculate Mean absolute error, Mean squared error, Root mean squared error and R-squared for the results of your own function vs the sklearn regression results. Try to interprete your results."
   ]
  },
  {
   "cell_type": "code",
   "execution_count": 229,
   "metadata": {},
   "outputs": [
    {
     "name": "stdout",
     "output_type": "stream",
     "text": [
      "37.83623390033251\n",
      "37.836233900332424\n"
     ]
    }
   ],
   "source": [
    "print(metrics.mean_absolute_error(y_test,b[0]*x_test+b[1]))\n",
    "print(metrics.mean_absolute_error(y_test,model.predict(np.array(x_test).reshape(-1,1))))"
   ]
  },
  {
   "cell_type": "code",
   "execution_count": 230,
   "metadata": {},
   "outputs": [
    {
     "name": "stdout",
     "output_type": "stream",
     "text": [
      "2162.1116327764294\n",
      "2162.1116327764244\n"
     ]
    }
   ],
   "source": [
    "print(metrics.mean_squared_error(y_test,b[0]*x_test+b[1]))\n",
    "print(metrics.mean_squared_error(y_test,model.predict(np.array(x_test).reshape(-1,1))))"
   ]
  },
  {
   "cell_type": "code",
   "execution_count": 231,
   "metadata": {},
   "outputs": [
    {
     "name": "stdout",
     "output_type": "stream",
     "text": [
      "46.498512156588724\n",
      "46.49851215658867\n"
     ]
    }
   ],
   "source": [
    "print(np.sqrt(metrics.mean_squared_error(y_test,b[0]*x_test+b[1])))\n",
    "print(np.sqrt(metrics.mean_squared_error(y_test,model.predict(np.array(x_test).reshape(-1,1)))))"
   ]
  },
  {
   "cell_type": "code",
   "execution_count": 233,
   "metadata": {},
   "outputs": [
    {
     "name": "stdout",
     "output_type": "stream",
     "text": [
      "0.5633624502240135\n",
      "0.5633624502240145\n"
     ]
    }
   ],
   "source": [
    "print(metrics.r2_score(y_test,b[0]*x_test+b[1]))\n",
    "print(metrics.r2_score(y_test,model.predict(np.array(x_test).reshape(-1,1))))"
   ]
  },
  {
   "cell_type": "markdown",
   "metadata": {},
   "source": [
    "### Fit linear regression to the data containing all numerical features using sklearn and use the same metrics to evaluate how good the model is."
   ]
  },
  {
   "cell_type": "code",
   "execution_count": 235,
   "metadata": {},
   "outputs": [],
   "source": [
    "(X_train,X_test,Y_train,Y_test)=train_test_split(df.drop(\"Yearly Amount Spent\",axis=1),y,test_size=0.2)"
   ]
  },
  {
   "cell_type": "code",
   "execution_count": 239,
   "metadata": {},
   "outputs": [
    {
     "data": {
      "text/plain": [
       "LinearRegression(copy_X=True, fit_intercept=True, n_jobs=None, normalize=False)"
      ]
     },
     "execution_count": 239,
     "metadata": {},
     "output_type": "execute_result"
    }
   ],
   "source": [
    "Model=LinearRegression()\n",
    "Model.fit(X_train,Y_train)"
   ]
  },
  {
   "cell_type": "code",
   "execution_count": 243,
   "metadata": {},
   "outputs": [
    {
     "name": "stdout",
     "output_type": "stream",
     "text": [
      "[25.71267995 39.20682122  0.31870579 61.39398547] -1052.18091660528\n"
     ]
    }
   ],
   "source": [
    "print(Model.coef_,Model.intercept_)"
   ]
  },
  {
   "cell_type": "code",
   "execution_count": 253,
   "metadata": {},
   "outputs": [],
   "source": [
    "Y_test_pred=Model.predict(X_test)"
   ]
  },
  {
   "cell_type": "code",
   "execution_count": 255,
   "metadata": {},
   "outputs": [
    {
     "name": "stdout",
     "output_type": "stream",
     "text": [
      "9.143010089008921\n",
      "120.00431458747057\n",
      "10.954648081406841\n",
      "0.9788206887235942\n"
     ]
    }
   ],
   "source": [
    "print(metrics.mean_absolute_error(Y_test,Y_test_pred))\n",
    "print(metrics.mean_squared_error(Y_test,Y_test_pred))\n",
    "print(np.sqrt(metrics.mean_squared_error(Y_test,Y_test_pred)))\n",
    "print(metrics.r2_score(Y_test,Y_test_pred))"
   ]
  },
  {
   "cell_type": "markdown",
   "metadata": {},
   "source": [
    "We can interpret the results. First of all for the univariate case the function written by us works and predicts as well as the one using sklearn. Probably the reason is that solution is analytical in case of linear regression and no optimization is used, so the results are the same. On the other hand multivariate approach gives better predictions, since the errors are smaller.  "
   ]
  },
  {
   "cell_type": "code",
   "execution_count": null,
   "metadata": {},
   "outputs": [],
   "source": []
  }
 ],
 "metadata": {
  "kernelspec": {
   "display_name": "Python 3",
   "language": "python",
   "name": "python3"
  },
  "language_info": {
   "codemirror_mode": {
    "name": "ipython",
    "version": 3
   },
   "file_extension": ".py",
   "mimetype": "text/x-python",
   "name": "python",
   "nbconvert_exporter": "python",
   "pygments_lexer": "ipython3",
   "version": "3.7.3"
  }
 },
 "nbformat": 4,
 "nbformat_minor": 4
}
